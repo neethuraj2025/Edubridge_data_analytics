{
 "cells": [
  {
   "cell_type": "markdown",
   "id": "c754fa6e",
   "metadata": {},
   "source": [
    "## Importing libraries"
   ]
  },
  {
   "cell_type": "code",
   "execution_count": 1,
   "id": "57af102d",
   "metadata": {},
   "outputs": [],
   "source": [
    "import pandas as pd\n",
    "import numpy as np\n",
    "import warnings\n",
    "warnings.filterwarnings('ignore')\n",
    "import matplotlib.pyplot as plt\n",
    "import seaborn as sns"
   ]
  },
  {
   "cell_type": "markdown",
   "id": "c6a499d9",
   "metadata": {},
   "source": [
    "## Reading data"
   ]
  },
  {
   "cell_type": "code",
   "execution_count": 2,
   "id": "a4a5321d",
   "metadata": {},
   "outputs": [],
   "source": [
    "d=pd.read_csv('covid.csv')"
   ]
  },
  {
   "cell_type": "code",
   "execution_count": 3,
   "id": "1c195a65",
   "metadata": {},
   "outputs": [
    {
     "data": {
      "text/plain": [
       "(18327, 8)"
      ]
     },
     "execution_count": 3,
     "metadata": {},
     "output_type": "execute_result"
    }
   ],
   "source": [
    "d.shape"
   ]
  },
  {
   "cell_type": "code",
   "execution_count": 4,
   "id": "2b1b5fda",
   "metadata": {},
   "outputs": [
    {
     "data": {
      "text/plain": [
       "SNo                  int64\n",
       "ObservationDate     object\n",
       "Province/State      object\n",
       "Country/Region      object\n",
       "Last Update         object\n",
       "Confirmed          float64\n",
       "Deaths             float64\n",
       "Recovered          float64\n",
       "dtype: object"
      ]
     },
     "execution_count": 4,
     "metadata": {},
     "output_type": "execute_result"
    }
   ],
   "source": [
    "d.dtypes"
   ]
  },
  {
   "cell_type": "code",
   "execution_count": 5,
   "id": "08d24e18",
   "metadata": {},
   "outputs": [
    {
     "data": {
      "text/plain": [
       "SNo                   0\n",
       "ObservationDate       0\n",
       "Province/State     9277\n",
       "Country/Region        0\n",
       "Last Update           0\n",
       "Confirmed             0\n",
       "Deaths                0\n",
       "Recovered             0\n",
       "dtype: int64"
      ]
     },
     "execution_count": 5,
     "metadata": {},
     "output_type": "execute_result"
    }
   ],
   "source": [
    "d.isnull().sum()"
   ]
  },
  {
   "cell_type": "code",
   "execution_count": 6,
   "id": "b421dd39",
   "metadata": {},
   "outputs": [],
   "source": [
    "d.drop(['Province/State','Province/State','SNo'],axis=1,inplace=True)"
   ]
  },
  {
   "cell_type": "code",
   "execution_count": 7,
   "id": "b379e287",
   "metadata": {},
   "outputs": [
    {
     "data": {
      "text/plain": [
       "ObservationDate    0\n",
       "Country/Region     0\n",
       "Last Update        0\n",
       "Confirmed          0\n",
       "Deaths             0\n",
       "Recovered          0\n",
       "dtype: int64"
      ]
     },
     "execution_count": 7,
     "metadata": {},
     "output_type": "execute_result"
    }
   ],
   "source": [
    "d.isnull().sum()"
   ]
  },
  {
   "cell_type": "code",
   "execution_count": 8,
   "id": "34f856eb",
   "metadata": {},
   "outputs": [],
   "source": [
    "d['ObservationDate'] = pd.to_datetime(d['ObservationDate'])"
   ]
  },
  {
   "cell_type": "code",
   "execution_count": 9,
   "id": "edd6d40b",
   "metadata": {},
   "outputs": [
    {
     "data": {
      "text/plain": [
       "ObservationDate    datetime64[ns]\n",
       "Country/Region             object\n",
       "Last Update                object\n",
       "Confirmed                 float64\n",
       "Deaths                    float64\n",
       "Recovered                 float64\n",
       "dtype: object"
      ]
     },
     "execution_count": 9,
     "metadata": {},
     "output_type": "execute_result"
    }
   ],
   "source": [
    "d.dtypes"
   ]
  },
  {
   "cell_type": "code",
   "execution_count": 10,
   "id": "43940f7c",
   "metadata": {},
   "outputs": [
    {
     "name": "stdout",
     "output_type": "stream",
     "text": [
      "<class 'pandas.core.frame.DataFrame'>\n",
      "RangeIndex: 18327 entries, 0 to 18326\n",
      "Data columns (total 6 columns):\n",
      " #   Column           Non-Null Count  Dtype         \n",
      "---  ------           --------------  -----         \n",
      " 0   ObservationDate  18327 non-null  datetime64[ns]\n",
      " 1   Country/Region   18327 non-null  object        \n",
      " 2   Last Update      18327 non-null  object        \n",
      " 3   Confirmed        18327 non-null  float64       \n",
      " 4   Deaths           18327 non-null  float64       \n",
      " 5   Recovered        18327 non-null  float64       \n",
      "dtypes: datetime64[ns](1), float64(3), object(2)\n",
      "memory usage: 859.2+ KB\n"
     ]
    }
   ],
   "source": [
    "d.info()"
   ]
  },
  {
   "cell_type": "code",
   "execution_count": 11,
   "id": "959cf314",
   "metadata": {},
   "outputs": [
    {
     "data": {
      "text/html": [
       "<div>\n",
       "<style scoped>\n",
       "    .dataframe tbody tr th:only-of-type {\n",
       "        vertical-align: middle;\n",
       "    }\n",
       "\n",
       "    .dataframe tbody tr th {\n",
       "        vertical-align: top;\n",
       "    }\n",
       "\n",
       "    .dataframe thead th {\n",
       "        text-align: right;\n",
       "    }\n",
       "</style>\n",
       "<table border=\"1\" class=\"dataframe\">\n",
       "  <thead>\n",
       "    <tr style=\"text-align: right;\">\n",
       "      <th></th>\n",
       "      <th>Confirmed</th>\n",
       "      <th>Deaths</th>\n",
       "      <th>Recovered</th>\n",
       "    </tr>\n",
       "  </thead>\n",
       "  <tbody>\n",
       "    <tr>\n",
       "      <th>count</th>\n",
       "      <td>18327.000000</td>\n",
       "      <td>18327.000000</td>\n",
       "      <td>18327.000000</td>\n",
       "    </tr>\n",
       "    <tr>\n",
       "      <th>mean</th>\n",
       "      <td>3030.015551</td>\n",
       "      <td>180.680417</td>\n",
       "      <td>764.542424</td>\n",
       "    </tr>\n",
       "    <tr>\n",
       "      <th>std</th>\n",
       "      <td>15129.079515</td>\n",
       "      <td>1362.099905</td>\n",
       "      <td>5618.658958</td>\n",
       "    </tr>\n",
       "    <tr>\n",
       "      <th>min</th>\n",
       "      <td>0.000000</td>\n",
       "      <td>0.000000</td>\n",
       "      <td>0.000000</td>\n",
       "    </tr>\n",
       "    <tr>\n",
       "      <th>25%</th>\n",
       "      <td>9.000000</td>\n",
       "      <td>0.000000</td>\n",
       "      <td>0.000000</td>\n",
       "    </tr>\n",
       "    <tr>\n",
       "      <th>50%</th>\n",
       "      <td>101.000000</td>\n",
       "      <td>1.000000</td>\n",
       "      <td>2.000000</td>\n",
       "    </tr>\n",
       "    <tr>\n",
       "      <th>75%</th>\n",
       "      <td>674.500000</td>\n",
       "      <td>8.000000</td>\n",
       "      <td>71.000000</td>\n",
       "    </tr>\n",
       "    <tr>\n",
       "      <th>max</th>\n",
       "      <td>271590.000000</td>\n",
       "      <td>25969.000000</td>\n",
       "      <td>109800.000000</td>\n",
       "    </tr>\n",
       "  </tbody>\n",
       "</table>\n",
       "</div>"
      ],
      "text/plain": [
       "           Confirmed        Deaths      Recovered\n",
       "count   18327.000000  18327.000000   18327.000000\n",
       "mean     3030.015551    180.680417     764.542424\n",
       "std     15129.079515   1362.099905    5618.658958\n",
       "min         0.000000      0.000000       0.000000\n",
       "25%         9.000000      0.000000       0.000000\n",
       "50%       101.000000      1.000000       2.000000\n",
       "75%       674.500000      8.000000      71.000000\n",
       "max    271590.000000  25969.000000  109800.000000"
      ]
     },
     "execution_count": 11,
     "metadata": {},
     "output_type": "execute_result"
    }
   ],
   "source": [
    "d.describe()"
   ]
  },
  {
   "cell_type": "code",
   "execution_count": 12,
   "id": "1725fca6",
   "metadata": {},
   "outputs": [
    {
     "data": {
      "text/html": [
       "<div>\n",
       "<style scoped>\n",
       "    .dataframe tbody tr th:only-of-type {\n",
       "        vertical-align: middle;\n",
       "    }\n",
       "\n",
       "    .dataframe tbody tr th {\n",
       "        vertical-align: top;\n",
       "    }\n",
       "\n",
       "    .dataframe thead th {\n",
       "        text-align: right;\n",
       "    }\n",
       "</style>\n",
       "<table border=\"1\" class=\"dataframe\">\n",
       "  <thead>\n",
       "    <tr style=\"text-align: right;\">\n",
       "      <th></th>\n",
       "      <th>count</th>\n",
       "      <th>mean</th>\n",
       "      <th>std</th>\n",
       "      <th>min</th>\n",
       "      <th>25%</th>\n",
       "      <th>50%</th>\n",
       "      <th>75%</th>\n",
       "      <th>max</th>\n",
       "    </tr>\n",
       "  </thead>\n",
       "  <tbody>\n",
       "    <tr>\n",
       "      <th>Confirmed</th>\n",
       "      <td>18327.0</td>\n",
       "      <td>3030.015551</td>\n",
       "      <td>15129.079515</td>\n",
       "      <td>0.0</td>\n",
       "      <td>9.0</td>\n",
       "      <td>101.0</td>\n",
       "      <td>674.5</td>\n",
       "      <td>271590.0</td>\n",
       "    </tr>\n",
       "    <tr>\n",
       "      <th>Deaths</th>\n",
       "      <td>18327.0</td>\n",
       "      <td>180.680417</td>\n",
       "      <td>1362.099905</td>\n",
       "      <td>0.0</td>\n",
       "      <td>0.0</td>\n",
       "      <td>1.0</td>\n",
       "      <td>8.0</td>\n",
       "      <td>25969.0</td>\n",
       "    </tr>\n",
       "    <tr>\n",
       "      <th>Recovered</th>\n",
       "      <td>18327.0</td>\n",
       "      <td>764.542424</td>\n",
       "      <td>5618.658958</td>\n",
       "      <td>0.0</td>\n",
       "      <td>0.0</td>\n",
       "      <td>2.0</td>\n",
       "      <td>71.0</td>\n",
       "      <td>109800.0</td>\n",
       "    </tr>\n",
       "  </tbody>\n",
       "</table>\n",
       "</div>"
      ],
      "text/plain": [
       "             count         mean           std  min  25%    50%    75%  \\\n",
       "Confirmed  18327.0  3030.015551  15129.079515  0.0  9.0  101.0  674.5   \n",
       "Deaths     18327.0   180.680417   1362.099905  0.0  0.0    1.0    8.0   \n",
       "Recovered  18327.0   764.542424   5618.658958  0.0  0.0    2.0   71.0   \n",
       "\n",
       "                max  \n",
       "Confirmed  271590.0  \n",
       "Deaths      25969.0  \n",
       "Recovered  109800.0  "
      ]
     },
     "execution_count": 12,
     "metadata": {},
     "output_type": "execute_result"
    }
   ],
   "source": [
    "d.describe().transpose()"
   ]
  },
  {
   "cell_type": "code",
   "execution_count": 13,
   "id": "fca4ab1c",
   "metadata": {},
   "outputs": [
    {
     "data": {
      "text/html": [
       "<div>\n",
       "<style scoped>\n",
       "    .dataframe tbody tr th:only-of-type {\n",
       "        vertical-align: middle;\n",
       "    }\n",
       "\n",
       "    .dataframe tbody tr th {\n",
       "        vertical-align: top;\n",
       "    }\n",
       "\n",
       "    .dataframe thead th {\n",
       "        text-align: right;\n",
       "    }\n",
       "</style>\n",
       "<table border=\"1\" class=\"dataframe\">\n",
       "  <thead>\n",
       "    <tr style=\"text-align: right;\">\n",
       "      <th></th>\n",
       "      <th>ObservationDate</th>\n",
       "      <th>Country/Region</th>\n",
       "      <th>Last Update</th>\n",
       "      <th>Confirmed</th>\n",
       "      <th>Deaths</th>\n",
       "      <th>Recovered</th>\n",
       "    </tr>\n",
       "  </thead>\n",
       "  <tbody>\n",
       "    <tr>\n",
       "      <th>0</th>\n",
       "      <td>2020-01-22</td>\n",
       "      <td>Mainland China</td>\n",
       "      <td>1/22/2020 17:00</td>\n",
       "      <td>1.0</td>\n",
       "      <td>0.0</td>\n",
       "      <td>0.0</td>\n",
       "    </tr>\n",
       "    <tr>\n",
       "      <th>1</th>\n",
       "      <td>2020-01-22</td>\n",
       "      <td>Mainland China</td>\n",
       "      <td>1/22/2020 17:00</td>\n",
       "      <td>14.0</td>\n",
       "      <td>0.0</td>\n",
       "      <td>0.0</td>\n",
       "    </tr>\n",
       "    <tr>\n",
       "      <th>2</th>\n",
       "      <td>2020-01-22</td>\n",
       "      <td>Mainland China</td>\n",
       "      <td>1/22/2020 17:00</td>\n",
       "      <td>6.0</td>\n",
       "      <td>0.0</td>\n",
       "      <td>0.0</td>\n",
       "    </tr>\n",
       "    <tr>\n",
       "      <th>3</th>\n",
       "      <td>2020-01-22</td>\n",
       "      <td>Mainland China</td>\n",
       "      <td>1/22/2020 17:00</td>\n",
       "      <td>1.0</td>\n",
       "      <td>0.0</td>\n",
       "      <td>0.0</td>\n",
       "    </tr>\n",
       "    <tr>\n",
       "      <th>4</th>\n",
       "      <td>2020-01-22</td>\n",
       "      <td>Mainland China</td>\n",
       "      <td>1/22/2020 17:00</td>\n",
       "      <td>0.0</td>\n",
       "      <td>0.0</td>\n",
       "      <td>0.0</td>\n",
       "    </tr>\n",
       "  </tbody>\n",
       "</table>\n",
       "</div>"
      ],
      "text/plain": [
       "  ObservationDate  Country/Region      Last Update  Confirmed  Deaths  \\\n",
       "0      2020-01-22  Mainland China  1/22/2020 17:00        1.0     0.0   \n",
       "1      2020-01-22  Mainland China  1/22/2020 17:00       14.0     0.0   \n",
       "2      2020-01-22  Mainland China  1/22/2020 17:00        6.0     0.0   \n",
       "3      2020-01-22  Mainland China  1/22/2020 17:00        1.0     0.0   \n",
       "4      2020-01-22  Mainland China  1/22/2020 17:00        0.0     0.0   \n",
       "\n",
       "   Recovered  \n",
       "0        0.0  \n",
       "1        0.0  \n",
       "2        0.0  \n",
       "3        0.0  \n",
       "4        0.0  "
      ]
     },
     "execution_count": 13,
     "metadata": {},
     "output_type": "execute_result"
    }
   ],
   "source": [
    "d.head()"
   ]
  },
  {
   "cell_type": "code",
   "execution_count": 14,
   "id": "d7e9e731",
   "metadata": {},
   "outputs": [
    {
     "data": {
      "text/html": [
       "<div>\n",
       "<style scoped>\n",
       "    .dataframe tbody tr th:only-of-type {\n",
       "        vertical-align: middle;\n",
       "    }\n",
       "\n",
       "    .dataframe tbody tr th {\n",
       "        vertical-align: top;\n",
       "    }\n",
       "\n",
       "    .dataframe thead th {\n",
       "        text-align: right;\n",
       "    }\n",
       "</style>\n",
       "<table border=\"1\" class=\"dataframe\">\n",
       "  <thead>\n",
       "    <tr style=\"text-align: right;\">\n",
       "      <th></th>\n",
       "      <th>ObservationDate</th>\n",
       "      <th>Country/Region</th>\n",
       "      <th>Last Update</th>\n",
       "      <th>Confirmed</th>\n",
       "      <th>Deaths</th>\n",
       "      <th>Recovered</th>\n",
       "    </tr>\n",
       "  </thead>\n",
       "  <tbody>\n",
       "    <tr>\n",
       "      <th>18322</th>\n",
       "      <td>2020-04-24</td>\n",
       "      <td>US</td>\n",
       "      <td>2020-04-25 06:31:19</td>\n",
       "      <td>473.0</td>\n",
       "      <td>7.0</td>\n",
       "      <td>0.0</td>\n",
       "    </tr>\n",
       "    <tr>\n",
       "      <th>18323</th>\n",
       "      <td>2020-04-24</td>\n",
       "      <td>Mainland China</td>\n",
       "      <td>2020-04-25 06:31:19</td>\n",
       "      <td>76.0</td>\n",
       "      <td>3.0</td>\n",
       "      <td>73.0</td>\n",
       "    </tr>\n",
       "    <tr>\n",
       "      <th>18324</th>\n",
       "      <td>2020-04-24</td>\n",
       "      <td>Canada</td>\n",
       "      <td>2020-04-25 06:31:19</td>\n",
       "      <td>11.0</td>\n",
       "      <td>0.0</td>\n",
       "      <td>0.0</td>\n",
       "    </tr>\n",
       "    <tr>\n",
       "      <th>18325</th>\n",
       "      <td>2020-04-24</td>\n",
       "      <td>Mainland China</td>\n",
       "      <td>2020-04-25 06:31:19</td>\n",
       "      <td>185.0</td>\n",
       "      <td>2.0</td>\n",
       "      <td>180.0</td>\n",
       "    </tr>\n",
       "    <tr>\n",
       "      <th>18326</th>\n",
       "      <td>2020-04-24</td>\n",
       "      <td>Mainland China</td>\n",
       "      <td>2020-04-25 06:31:19</td>\n",
       "      <td>1268.0</td>\n",
       "      <td>1.0</td>\n",
       "      <td>1256.0</td>\n",
       "    </tr>\n",
       "  </tbody>\n",
       "</table>\n",
       "</div>"
      ],
      "text/plain": [
       "      ObservationDate  Country/Region          Last Update  Confirmed  Deaths  \\\n",
       "18322      2020-04-24              US  2020-04-25 06:31:19      473.0     7.0   \n",
       "18323      2020-04-24  Mainland China  2020-04-25 06:31:19       76.0     3.0   \n",
       "18324      2020-04-24          Canada  2020-04-25 06:31:19       11.0     0.0   \n",
       "18325      2020-04-24  Mainland China  2020-04-25 06:31:19      185.0     2.0   \n",
       "18326      2020-04-24  Mainland China  2020-04-25 06:31:19     1268.0     1.0   \n",
       "\n",
       "       Recovered  \n",
       "18322        0.0  \n",
       "18323       73.0  \n",
       "18324        0.0  \n",
       "18325      180.0  \n",
       "18326     1256.0  "
      ]
     },
     "execution_count": 14,
     "metadata": {},
     "output_type": "execute_result"
    }
   ],
   "source": [
    "d.tail()"
   ]
  },
  {
   "cell_type": "markdown",
   "id": "7d6adf4b",
   "metadata": {},
   "source": [
    "## Grouping cases as per the date"
   ]
  },
  {
   "cell_type": "code",
   "execution_count": 15,
   "id": "7ef86381",
   "metadata": {},
   "outputs": [],
   "source": [
    "date_wise = d.groupby(['ObservationDate']).agg({'Confirmed':'sum','Deaths':'sum','Recovered':'sum'})"
   ]
  },
  {
   "cell_type": "code",
   "execution_count": 16,
   "id": "a5bf00ea",
   "metadata": {},
   "outputs": [
    {
     "data": {
      "text/html": [
       "<div>\n",
       "<style scoped>\n",
       "    .dataframe tbody tr th:only-of-type {\n",
       "        vertical-align: middle;\n",
       "    }\n",
       "\n",
       "    .dataframe tbody tr th {\n",
       "        vertical-align: top;\n",
       "    }\n",
       "\n",
       "    .dataframe thead th {\n",
       "        text-align: right;\n",
       "    }\n",
       "</style>\n",
       "<table border=\"1\" class=\"dataframe\">\n",
       "  <thead>\n",
       "    <tr style=\"text-align: right;\">\n",
       "      <th></th>\n",
       "      <th>Confirmed</th>\n",
       "      <th>Deaths</th>\n",
       "      <th>Recovered</th>\n",
       "    </tr>\n",
       "    <tr>\n",
       "      <th>ObservationDate</th>\n",
       "      <th></th>\n",
       "      <th></th>\n",
       "      <th></th>\n",
       "    </tr>\n",
       "  </thead>\n",
       "  <tbody>\n",
       "    <tr>\n",
       "      <th>2020-01-22</th>\n",
       "      <td>555.0</td>\n",
       "      <td>17.0</td>\n",
       "      <td>28.0</td>\n",
       "    </tr>\n",
       "    <tr>\n",
       "      <th>2020-01-23</th>\n",
       "      <td>653.0</td>\n",
       "      <td>18.0</td>\n",
       "      <td>30.0</td>\n",
       "    </tr>\n",
       "    <tr>\n",
       "      <th>2020-01-24</th>\n",
       "      <td>941.0</td>\n",
       "      <td>26.0</td>\n",
       "      <td>36.0</td>\n",
       "    </tr>\n",
       "    <tr>\n",
       "      <th>2020-01-25</th>\n",
       "      <td>1438.0</td>\n",
       "      <td>42.0</td>\n",
       "      <td>39.0</td>\n",
       "    </tr>\n",
       "    <tr>\n",
       "      <th>2020-01-26</th>\n",
       "      <td>2118.0</td>\n",
       "      <td>56.0</td>\n",
       "      <td>52.0</td>\n",
       "    </tr>\n",
       "    <tr>\n",
       "      <th>...</th>\n",
       "      <td>...</td>\n",
       "      <td>...</td>\n",
       "      <td>...</td>\n",
       "    </tr>\n",
       "    <tr>\n",
       "      <th>2020-04-20</th>\n",
       "      <td>2472259.0</td>\n",
       "      <td>169986.0</td>\n",
       "      <td>645738.0</td>\n",
       "    </tr>\n",
       "    <tr>\n",
       "      <th>2020-04-21</th>\n",
       "      <td>2549123.0</td>\n",
       "      <td>176583.0</td>\n",
       "      <td>679819.0</td>\n",
       "    </tr>\n",
       "    <tr>\n",
       "      <th>2020-04-22</th>\n",
       "      <td>2623960.0</td>\n",
       "      <td>183066.0</td>\n",
       "      <td>709694.0</td>\n",
       "    </tr>\n",
       "    <tr>\n",
       "      <th>2020-04-23</th>\n",
       "      <td>2708885.0</td>\n",
       "      <td>190858.0</td>\n",
       "      <td>738486.0</td>\n",
       "    </tr>\n",
       "    <tr>\n",
       "      <th>2020-04-24</th>\n",
       "      <td>2811193.0</td>\n",
       "      <td>197159.0</td>\n",
       "      <td>793601.0</td>\n",
       "    </tr>\n",
       "  </tbody>\n",
       "</table>\n",
       "<p>94 rows × 3 columns</p>\n",
       "</div>"
      ],
      "text/plain": [
       "                 Confirmed    Deaths  Recovered\n",
       "ObservationDate                                \n",
       "2020-01-22           555.0      17.0       28.0\n",
       "2020-01-23           653.0      18.0       30.0\n",
       "2020-01-24           941.0      26.0       36.0\n",
       "2020-01-25          1438.0      42.0       39.0\n",
       "2020-01-26          2118.0      56.0       52.0\n",
       "...                    ...       ...        ...\n",
       "2020-04-20       2472259.0  169986.0   645738.0\n",
       "2020-04-21       2549123.0  176583.0   679819.0\n",
       "2020-04-22       2623960.0  183066.0   709694.0\n",
       "2020-04-23       2708885.0  190858.0   738486.0\n",
       "2020-04-24       2811193.0  197159.0   793601.0\n",
       "\n",
       "[94 rows x 3 columns]"
      ]
     },
     "execution_count": 16,
     "metadata": {},
     "output_type": "execute_result"
    }
   ],
   "source": [
    "date_wise"
   ]
  },
  {
   "cell_type": "code",
   "execution_count": 17,
   "id": "8d50aac2",
   "metadata": {},
   "outputs": [
    {
     "data": {
      "text/html": [
       "<div>\n",
       "<style scoped>\n",
       "    .dataframe tbody tr th:only-of-type {\n",
       "        vertical-align: middle;\n",
       "    }\n",
       "\n",
       "    .dataframe tbody tr th {\n",
       "        vertical-align: top;\n",
       "    }\n",
       "\n",
       "    .dataframe thead th {\n",
       "        text-align: right;\n",
       "    }\n",
       "</style>\n",
       "<table border=\"1\" class=\"dataframe\">\n",
       "  <thead>\n",
       "    <tr style=\"text-align: right;\">\n",
       "      <th></th>\n",
       "      <th>Confirmed</th>\n",
       "      <th>Deaths</th>\n",
       "      <th>Recovered</th>\n",
       "    </tr>\n",
       "    <tr>\n",
       "      <th>ObservationDate</th>\n",
       "      <th></th>\n",
       "      <th></th>\n",
       "      <th></th>\n",
       "    </tr>\n",
       "  </thead>\n",
       "  <tbody>\n",
       "    <tr>\n",
       "      <th>2020-01-22</th>\n",
       "      <td>555.0</td>\n",
       "      <td>17.0</td>\n",
       "      <td>28.0</td>\n",
       "    </tr>\n",
       "    <tr>\n",
       "      <th>2020-01-23</th>\n",
       "      <td>653.0</td>\n",
       "      <td>18.0</td>\n",
       "      <td>30.0</td>\n",
       "    </tr>\n",
       "    <tr>\n",
       "      <th>2020-01-24</th>\n",
       "      <td>941.0</td>\n",
       "      <td>26.0</td>\n",
       "      <td>36.0</td>\n",
       "    </tr>\n",
       "    <tr>\n",
       "      <th>2020-01-25</th>\n",
       "      <td>1438.0</td>\n",
       "      <td>42.0</td>\n",
       "      <td>39.0</td>\n",
       "    </tr>\n",
       "    <tr>\n",
       "      <th>2020-01-26</th>\n",
       "      <td>2118.0</td>\n",
       "      <td>56.0</td>\n",
       "      <td>52.0</td>\n",
       "    </tr>\n",
       "  </tbody>\n",
       "</table>\n",
       "</div>"
      ],
      "text/plain": [
       "                 Confirmed  Deaths  Recovered\n",
       "ObservationDate                              \n",
       "2020-01-22           555.0    17.0       28.0\n",
       "2020-01-23           653.0    18.0       30.0\n",
       "2020-01-24           941.0    26.0       36.0\n",
       "2020-01-25          1438.0    42.0       39.0\n",
       "2020-01-26          2118.0    56.0       52.0"
      ]
     },
     "execution_count": 17,
     "metadata": {},
     "output_type": "execute_result"
    }
   ],
   "source": [
    "date_wise.head()"
   ]
  },
  {
   "cell_type": "markdown",
   "id": "e75f3271",
   "metadata": {},
   "source": [
    "## Total number of confirmed  cases around the world"
   ]
  },
  {
   "cell_type": "code",
   "execution_count": 18,
   "id": "3f5e01ad",
   "metadata": {},
   "outputs": [
    {
     "data": {
      "text/plain": [
       "2811193.0"
      ]
     },
     "execution_count": 18,
     "metadata": {},
     "output_type": "execute_result"
    }
   ],
   "source": [
    "date_wise['Confirmed'].iloc[-1]"
   ]
  },
  {
   "cell_type": "code",
   "execution_count": 19,
   "id": "a57b14a0",
   "metadata": {},
   "outputs": [
    {
     "data": {
      "text/plain": [
       "197159.0"
      ]
     },
     "execution_count": 19,
     "metadata": {},
     "output_type": "execute_result"
    }
   ],
   "source": [
    "date_wise['Deaths'].iloc[-1]"
   ]
  },
  {
   "cell_type": "code",
   "execution_count": 20,
   "id": "69db0f96",
   "metadata": {},
   "outputs": [
    {
     "data": {
      "text/plain": [
       "793601.0"
      ]
     },
     "execution_count": 20,
     "metadata": {},
     "output_type": "execute_result"
    }
   ],
   "source": [
    "date_wise['Recovered'].iloc[-1]"
   ]
  },
  {
   "cell_type": "markdown",
   "id": "f9ca1991",
   "metadata": {},
   "source": [
    "\n",
    "\n",
    "## Total number of active cases"
   ]
  },
  {
   "cell_type": "code",
   "execution_count": 21,
   "id": "062a23f6",
   "metadata": {},
   "outputs": [
    {
     "data": {
      "text/plain": [
       "1820433.0"
      ]
     },
     "execution_count": 21,
     "metadata": {},
     "output_type": "execute_result"
    }
   ],
   "source": [
    "date_wise['Confirmed'].iloc[-1]-date_wise['Deaths'].iloc[-1]-date_wise['Recovered'].iloc[-1]"
   ]
  },
  {
   "cell_type": "markdown",
   "id": "6507df40",
   "metadata": {},
   "source": [
    "## Total number of closed cases"
   ]
  },
  {
   "cell_type": "code",
   "execution_count": 22,
   "id": "86cd5016",
   "metadata": {},
   "outputs": [
    {
     "data": {
      "text/plain": [
       "990760.0"
      ]
     },
     "execution_count": 22,
     "metadata": {},
     "output_type": "execute_result"
    }
   ],
   "source": [
    "date_wise['Deaths'].iloc[-1]+date_wise['Recovered'].iloc[-1]"
   ]
  },
  {
   "cell_type": "code",
   "execution_count": 23,
   "id": "dc3a1d84",
   "metadata": {},
   "outputs": [
    {
     "data": {
      "image/png": "[encoded data removed]",
      "text/plain": [
       "<Figure size 1440x720 with 1 Axes>"
      ]
     },
     "metadata": {
      "needs_background": "light"
     },
     "output_type": "display_data"
    }
   ],
   "source": [
    "plt.figure(figsize=(20,10))\n",
    "sns.barplot(x=date_wise.index,y=date_wise['Confirmed']-date_wise['Recovered']-date_wise['Deaths'])\n",
    "plt.xticks(rotation=90)\n",
    "plt.title('Distribution for active cases')\n",
    "plt.show()\n"
   ]
  },
  {
   "cell_type": "code",
   "execution_count": 24,
   "id": "23be48ef",
   "metadata": {},
   "outputs": [
    {
     "data": {
      "image/png": "[encoded data removed]",
      "text/plain": [
       "<Figure size 1440x720 with 1 Axes>"
      ]
     },
     "metadata": {
      "needs_background": "light"
     },
     "output_type": "display_data"
    }
   ],
   "source": [
    "plt.figure(figsize=(20,10))\n",
    "sns.barplot(x=date_wise.index,y=date_wise['Recovered']+date_wise['Deaths'])\n",
    "plt.xticks(rotation=90)\n",
    "plt.title('Distribution for closed cases')\n",
    "plt.show()\n"
   ]
  },
  {
   "cell_type": "code",
   "execution_count": 25,
   "id": "a022abff",
   "metadata": {},
   "outputs": [],
   "source": [
    "date_wise['week'] = date_wise.index.weekofyear"
   ]
  },
  {
   "cell_type": "code",
   "execution_count": 26,
   "id": "05189da5",
   "metadata": {},
   "outputs": [
    {
     "data": {
      "text/html": [
       "<div>\n",
       "<style scoped>\n",
       "    .dataframe tbody tr th:only-of-type {\n",
       "        vertical-align: middle;\n",
       "    }\n",
       "\n",
       "    .dataframe tbody tr th {\n",
       "        vertical-align: top;\n",
       "    }\n",
       "\n",
       "    .dataframe thead th {\n",
       "        text-align: right;\n",
       "    }\n",
       "</style>\n",
       "<table border=\"1\" class=\"dataframe\">\n",
       "  <thead>\n",
       "    <tr style=\"text-align: right;\">\n",
       "      <th></th>\n",
       "      <th>Confirmed</th>\n",
       "      <th>Deaths</th>\n",
       "      <th>Recovered</th>\n",
       "      <th>week</th>\n",
       "    </tr>\n",
       "    <tr>\n",
       "      <th>ObservationDate</th>\n",
       "      <th></th>\n",
       "      <th></th>\n",
       "      <th></th>\n",
       "      <th></th>\n",
       "    </tr>\n",
       "  </thead>\n",
       "  <tbody>\n",
       "    <tr>\n",
       "      <th>2020-01-22</th>\n",
       "      <td>555.0</td>\n",
       "      <td>17.0</td>\n",
       "      <td>28.0</td>\n",
       "      <td>4</td>\n",
       "    </tr>\n",
       "    <tr>\n",
       "      <th>2020-01-23</th>\n",
       "      <td>653.0</td>\n",
       "      <td>18.0</td>\n",
       "      <td>30.0</td>\n",
       "      <td>4</td>\n",
       "    </tr>\n",
       "    <tr>\n",
       "      <th>2020-01-24</th>\n",
       "      <td>941.0</td>\n",
       "      <td>26.0</td>\n",
       "      <td>36.0</td>\n",
       "      <td>4</td>\n",
       "    </tr>\n",
       "    <tr>\n",
       "      <th>2020-01-25</th>\n",
       "      <td>1438.0</td>\n",
       "      <td>42.0</td>\n",
       "      <td>39.0</td>\n",
       "      <td>4</td>\n",
       "    </tr>\n",
       "    <tr>\n",
       "      <th>2020-01-26</th>\n",
       "      <td>2118.0</td>\n",
       "      <td>56.0</td>\n",
       "      <td>52.0</td>\n",
       "      <td>4</td>\n",
       "    </tr>\n",
       "    <tr>\n",
       "      <th>...</th>\n",
       "      <td>...</td>\n",
       "      <td>...</td>\n",
       "      <td>...</td>\n",
       "      <td>...</td>\n",
       "    </tr>\n",
       "    <tr>\n",
       "      <th>2020-04-20</th>\n",
       "      <td>2472259.0</td>\n",
       "      <td>169986.0</td>\n",
       "      <td>645738.0</td>\n",
       "      <td>17</td>\n",
       "    </tr>\n",
       "    <tr>\n",
       "      <th>2020-04-21</th>\n",
       "      <td>2549123.0</td>\n",
       "      <td>176583.0</td>\n",
       "      <td>679819.0</td>\n",
       "      <td>17</td>\n",
       "    </tr>\n",
       "    <tr>\n",
       "      <th>2020-04-22</th>\n",
       "      <td>2623960.0</td>\n",
       "      <td>183066.0</td>\n",
       "      <td>709694.0</td>\n",
       "      <td>17</td>\n",
       "    </tr>\n",
       "    <tr>\n",
       "      <th>2020-04-23</th>\n",
       "      <td>2708885.0</td>\n",
       "      <td>190858.0</td>\n",
       "      <td>738486.0</td>\n",
       "      <td>17</td>\n",
       "    </tr>\n",
       "    <tr>\n",
       "      <th>2020-04-24</th>\n",
       "      <td>2811193.0</td>\n",
       "      <td>197159.0</td>\n",
       "      <td>793601.0</td>\n",
       "      <td>17</td>\n",
       "    </tr>\n",
       "  </tbody>\n",
       "</table>\n",
       "<p>94 rows × 4 columns</p>\n",
       "</div>"
      ],
      "text/plain": [
       "                 Confirmed    Deaths  Recovered  week\n",
       "ObservationDate                                      \n",
       "2020-01-22           555.0      17.0       28.0     4\n",
       "2020-01-23           653.0      18.0       30.0     4\n",
       "2020-01-24           941.0      26.0       36.0     4\n",
       "2020-01-25          1438.0      42.0       39.0     4\n",
       "2020-01-26          2118.0      56.0       52.0     4\n",
       "...                    ...       ...        ...   ...\n",
       "2020-04-20       2472259.0  169986.0   645738.0    17\n",
       "2020-04-21       2549123.0  176583.0   679819.0    17\n",
       "2020-04-22       2623960.0  183066.0   709694.0    17\n",
       "2020-04-23       2708885.0  190858.0   738486.0    17\n",
       "2020-04-24       2811193.0  197159.0   793601.0    17\n",
       "\n",
       "[94 rows x 4 columns]"
      ]
     },
     "execution_count": 26,
     "metadata": {},
     "output_type": "execute_result"
    }
   ],
   "source": [
    "date_wise"
   ]
  },
  {
   "cell_type": "code",
   "execution_count": 27,
   "id": "83f54fb0",
   "metadata": {},
   "outputs": [],
   "source": [
    "week_num = []\n",
    "week_confirmed = []\n",
    "week_deaths = []\n",
    "week_recovered = []\n",
    "w = 1\n",
    "for i in list(date_wise['week'].unique()):\n",
    "    week_confirmed.append(date_wise[date_wise['week']==i]['Confirmed'].iloc[-1])\n",
    "    week_deaths.append(date_wise[date_wise['week']==i]['Deaths'].iloc[-1])\n",
    "    week_recovered.append(date_wise[date_wise['week']==i]['Recovered'].iloc[-1])\n",
    "    week_num.append(w)\n",
    "    w = w + 1\n"
   ]
  },
  {
   "cell_type": "code",
   "execution_count": 28,
   "id": "5ee963ae",
   "metadata": {},
   "outputs": [
    {
     "data": {
      "image/png": "[encoded data removed]",
      "text/plain": [
       "<Figure size 648x432 with 1 Axes>"
      ]
     },
     "metadata": {
      "needs_background": "light"
     },
     "output_type": "display_data"
    }
   ],
   "source": [
    "plt.figure(figsize=(9,6))\n",
    "plt.plot(week_num,week_confirmed,linewidth=3)\n",
    "plt.plot(week_num,week_deaths)\n",
    "plt.plot(week_num,week_recovered)\n",
    "plt.xlabel('No of weeks')\n",
    "plt.ylabel('No of cases')\n",
    "plt.title('Weekly progress of cases')\n",
    "plt.show()"
   ]
  },
  {
   "cell_type": "code",
   "execution_count": 29,
   "id": "bbaab3c1",
   "metadata": {},
   "outputs": [
    {
     "data": {
      "image/png": "[encoded data removed]",
      "text/plain": [
       "<Figure size 1296x504 with 3 Axes>"
      ]
     },
     "metadata": {
      "needs_background": "light"
     },
     "output_type": "display_data"
    }
   ],
   "source": [
    "fig,(ax1,ax2,ax3)=plt.subplots(1,3,figsize=(18,7))\n",
    "sns.barplot(x=week_num,y=pd.Series(week_confirmed).diff().fillna(0),ax=ax1)\n",
    "sns.barplot(x=week_num,y=pd.Series(week_recovered).diff().fillna(0),ax=ax2)\n",
    "sns.barplot(x=week_num,y=pd.Series(week_deaths).diff().fillna(0),ax=ax3)\n",
    "ax1.set_xlabel('Number of weeks')\n",
    "ax2.set_xlabel('Number of weeks')\n",
    "ax3.set_xlabel('Number of weeks')\n",
    "ax1.set_ylabel('Number of confirmed cases')\n",
    "ax2.set_ylabel('Number of recovered cases')\n",
    "ax3.set_ylabel('Number of death cases')\n",
    "\n",
    "plt.show()"
   ]
  },
  {
   "cell_type": "markdown",
   "id": "4119b950",
   "metadata": {},
   "source": [
    "## Average increase in number of confirmed cases everyday"
   ]
  },
  {
   "cell_type": "code",
   "execution_count": 30,
   "id": "63923e7c",
   "metadata": {},
   "outputs": [
    {
     "data": {
      "text/plain": [
       "29900.0"
      ]
     },
     "execution_count": 30,
     "metadata": {},
     "output_type": "execute_result"
    }
   ],
   "source": [
    "np.round(date_wise['Confirmed'].diff().fillna(0).mean())"
   ]
  },
  {
   "cell_type": "code",
   "execution_count": 31,
   "id": "64336d18",
   "metadata": {},
   "outputs": [
    {
     "data": {
      "text/plain": [
       "8442.0"
      ]
     },
     "execution_count": 31,
     "metadata": {},
     "output_type": "execute_result"
    }
   ],
   "source": [
    "np.round(date_wise['Recovered'].diff().fillna(0).mean())"
   ]
  },
  {
   "cell_type": "code",
   "execution_count": 32,
   "id": "0d4134f7",
   "metadata": {
    "scrolled": true
   },
   "outputs": [
    {
     "data": {
      "text/plain": [
       "2097.0"
      ]
     },
     "execution_count": 32,
     "metadata": {},
     "output_type": "execute_result"
    }
   ],
   "source": [
    "np.round(date_wise['Deaths'].diff().fillna(0).mean())"
   ]
  },
  {
   "cell_type": "code",
   "execution_count": 36,
   "id": "4204e349",
   "metadata": {},
   "outputs": [
    {
     "data": {
      "image/png": "[encoded data removed]",
      "text/plain": [
       "<Figure size 792x360 with 1 Axes>"
      ]
     },
     "metadata": {
      "needs_background": "light"
     },
     "output_type": "display_data"
    }
   ],
   "source": [
    "plt.figure(figsize=(11,5))\n",
    "plt.plot(date_wise['Confirmed'].diff().fillna(0),label='daily increase in confirmed cases')\n",
    "plt.plot(date_wise['Recovered'].diff().fillna(0),label='daily increase in recovered cases')\n",
    "plt.plot(date_wise['Deaths'].diff().fillna(0),label='daily increase in deaths cases')\n",
    "plt.xlabel('Duration')\n",
    "plt.ylabel('No of increase')\n",
    "plt.show()"
   ]
  },
  {
   "cell_type": "code",
   "execution_count": 37,
   "id": "bf759a50",
   "metadata": {},
   "outputs": [
    {
     "data": {
      "text/html": [
       "<div>\n",
       "<style scoped>\n",
       "    .dataframe tbody tr th:only-of-type {\n",
       "        vertical-align: middle;\n",
       "    }\n",
       "\n",
       "    .dataframe tbody tr th {\n",
       "        vertical-align: top;\n",
       "    }\n",
       "\n",
       "    .dataframe thead th {\n",
       "        text-align: right;\n",
       "    }\n",
       "</style>\n",
       "<table border=\"1\" class=\"dataframe\">\n",
       "  <thead>\n",
       "    <tr style=\"text-align: right;\">\n",
       "      <th></th>\n",
       "      <th>ObservationDate</th>\n",
       "      <th>Country/Region</th>\n",
       "      <th>Last Update</th>\n",
       "      <th>Confirmed</th>\n",
       "      <th>Deaths</th>\n",
       "      <th>Recovered</th>\n",
       "    </tr>\n",
       "  </thead>\n",
       "  <tbody>\n",
       "    <tr>\n",
       "      <th>0</th>\n",
       "      <td>2020-01-22</td>\n",
       "      <td>Mainland China</td>\n",
       "      <td>1/22/2020 17:00</td>\n",
       "      <td>1.0</td>\n",
       "      <td>0.0</td>\n",
       "      <td>0.0</td>\n",
       "    </tr>\n",
       "    <tr>\n",
       "      <th>1</th>\n",
       "      <td>2020-01-22</td>\n",
       "      <td>Mainland China</td>\n",
       "      <td>1/22/2020 17:00</td>\n",
       "      <td>14.0</td>\n",
       "      <td>0.0</td>\n",
       "      <td>0.0</td>\n",
       "    </tr>\n",
       "    <tr>\n",
       "      <th>2</th>\n",
       "      <td>2020-01-22</td>\n",
       "      <td>Mainland China</td>\n",
       "      <td>1/22/2020 17:00</td>\n",
       "      <td>6.0</td>\n",
       "      <td>0.0</td>\n",
       "      <td>0.0</td>\n",
       "    </tr>\n",
       "    <tr>\n",
       "      <th>3</th>\n",
       "      <td>2020-01-22</td>\n",
       "      <td>Mainland China</td>\n",
       "      <td>1/22/2020 17:00</td>\n",
       "      <td>1.0</td>\n",
       "      <td>0.0</td>\n",
       "      <td>0.0</td>\n",
       "    </tr>\n",
       "    <tr>\n",
       "      <th>4</th>\n",
       "      <td>2020-01-22</td>\n",
       "      <td>Mainland China</td>\n",
       "      <td>1/22/2020 17:00</td>\n",
       "      <td>0.0</td>\n",
       "      <td>0.0</td>\n",
       "      <td>0.0</td>\n",
       "    </tr>\n",
       "    <tr>\n",
       "      <th>...</th>\n",
       "      <td>...</td>\n",
       "      <td>...</td>\n",
       "      <td>...</td>\n",
       "      <td>...</td>\n",
       "      <td>...</td>\n",
       "      <td>...</td>\n",
       "    </tr>\n",
       "    <tr>\n",
       "      <th>18322</th>\n",
       "      <td>2020-04-24</td>\n",
       "      <td>US</td>\n",
       "      <td>2020-04-25 06:31:19</td>\n",
       "      <td>473.0</td>\n",
       "      <td>7.0</td>\n",
       "      <td>0.0</td>\n",
       "    </tr>\n",
       "    <tr>\n",
       "      <th>18323</th>\n",
       "      <td>2020-04-24</td>\n",
       "      <td>Mainland China</td>\n",
       "      <td>2020-04-25 06:31:19</td>\n",
       "      <td>76.0</td>\n",
       "      <td>3.0</td>\n",
       "      <td>73.0</td>\n",
       "    </tr>\n",
       "    <tr>\n",
       "      <th>18324</th>\n",
       "      <td>2020-04-24</td>\n",
       "      <td>Canada</td>\n",
       "      <td>2020-04-25 06:31:19</td>\n",
       "      <td>11.0</td>\n",
       "      <td>0.0</td>\n",
       "      <td>0.0</td>\n",
       "    </tr>\n",
       "    <tr>\n",
       "      <th>18325</th>\n",
       "      <td>2020-04-24</td>\n",
       "      <td>Mainland China</td>\n",
       "      <td>2020-04-25 06:31:19</td>\n",
       "      <td>185.0</td>\n",
       "      <td>2.0</td>\n",
       "      <td>180.0</td>\n",
       "    </tr>\n",
       "    <tr>\n",
       "      <th>18326</th>\n",
       "      <td>2020-04-24</td>\n",
       "      <td>Mainland China</td>\n",
       "      <td>2020-04-25 06:31:19</td>\n",
       "      <td>1268.0</td>\n",
       "      <td>1.0</td>\n",
       "      <td>1256.0</td>\n",
       "    </tr>\n",
       "  </tbody>\n",
       "</table>\n",
       "<p>18327 rows × 6 columns</p>\n",
       "</div>"
      ],
      "text/plain": [
       "      ObservationDate  Country/Region          Last Update  Confirmed  Deaths  \\\n",
       "0          2020-01-22  Mainland China      1/22/2020 17:00        1.0     0.0   \n",
       "1          2020-01-22  Mainland China      1/22/2020 17:00       14.0     0.0   \n",
       "2          2020-01-22  Mainland China      1/22/2020 17:00        6.0     0.0   \n",
       "3          2020-01-22  Mainland China      1/22/2020 17:00        1.0     0.0   \n",
       "4          2020-01-22  Mainland China      1/22/2020 17:00        0.0     0.0   \n",
       "...               ...             ...                  ...        ...     ...   \n",
       "18322      2020-04-24              US  2020-04-25 06:31:19      473.0     7.0   \n",
       "18323      2020-04-24  Mainland China  2020-04-25 06:31:19       76.0     3.0   \n",
       "18324      2020-04-24          Canada  2020-04-25 06:31:19       11.0     0.0   \n",
       "18325      2020-04-24  Mainland China  2020-04-25 06:31:19      185.0     2.0   \n",
       "18326      2020-04-24  Mainland China  2020-04-25 06:31:19     1268.0     1.0   \n",
       "\n",
       "       Recovered  \n",
       "0            0.0  \n",
       "1            0.0  \n",
       "2            0.0  \n",
       "3            0.0  \n",
       "4            0.0  \n",
       "...          ...  \n",
       "18322        0.0  \n",
       "18323       73.0  \n",
       "18324        0.0  \n",
       "18325      180.0  \n",
       "18326     1256.0  \n",
       "\n",
       "[18327 rows x 6 columns]"
      ]
     },
     "execution_count": 37,
     "metadata": {},
     "output_type": "execute_result"
    }
   ],
   "source": [
    "d"
   ]
  },
  {
   "cell_type": "code",
   "execution_count": 44,
   "id": "575abf76",
   "metadata": {},
   "outputs": [
    {
     "data": {
      "text/html": [
       "<div>\n",
       "<style scoped>\n",
       "    .dataframe tbody tr th:only-of-type {\n",
       "        vertical-align: middle;\n",
       "    }\n",
       "\n",
       "    .dataframe tbody tr th {\n",
       "        vertical-align: top;\n",
       "    }\n",
       "\n",
       "    .dataframe thead th {\n",
       "        text-align: right;\n",
       "    }\n",
       "</style>\n",
       "<table border=\"1\" class=\"dataframe\">\n",
       "  <thead>\n",
       "    <tr style=\"text-align: right;\">\n",
       "      <th></th>\n",
       "      <th>Confirmed</th>\n",
       "      <th>Deaths</th>\n",
       "      <th>Recovered</th>\n",
       "    </tr>\n",
       "    <tr>\n",
       "      <th>Country/Region</th>\n",
       "      <th></th>\n",
       "      <th></th>\n",
       "      <th></th>\n",
       "    </tr>\n",
       "  </thead>\n",
       "  <tbody>\n",
       "    <tr>\n",
       "      <th>US</th>\n",
       "      <td>905333.0</td>\n",
       "      <td>51949.0</td>\n",
       "      <td>99079.0</td>\n",
       "    </tr>\n",
       "    <tr>\n",
       "      <th>Spain</th>\n",
       "      <td>219764.0</td>\n",
       "      <td>22524.0</td>\n",
       "      <td>92355.0</td>\n",
       "    </tr>\n",
       "    <tr>\n",
       "      <th>Italy</th>\n",
       "      <td>192994.0</td>\n",
       "      <td>25969.0</td>\n",
       "      <td>60498.0</td>\n",
       "    </tr>\n",
       "    <tr>\n",
       "      <th>France</th>\n",
       "      <td>159952.0</td>\n",
       "      <td>22279.0</td>\n",
       "      <td>44271.0</td>\n",
       "    </tr>\n",
       "    <tr>\n",
       "      <th>Germany</th>\n",
       "      <td>154999.0</td>\n",
       "      <td>5760.0</td>\n",
       "      <td>109800.0</td>\n",
       "    </tr>\n",
       "    <tr>\n",
       "      <th>...</th>\n",
       "      <td>...</td>\n",
       "      <td>...</td>\n",
       "      <td>...</td>\n",
       "    </tr>\n",
       "    <tr>\n",
       "      <th>Bhutan</th>\n",
       "      <td>7.0</td>\n",
       "      <td>0.0</td>\n",
       "      <td>3.0</td>\n",
       "    </tr>\n",
       "    <tr>\n",
       "      <th>Western Sahara</th>\n",
       "      <td>6.0</td>\n",
       "      <td>0.0</td>\n",
       "      <td>5.0</td>\n",
       "    </tr>\n",
       "    <tr>\n",
       "      <th>South Sudan</th>\n",
       "      <td>5.0</td>\n",
       "      <td>0.0</td>\n",
       "      <td>0.0</td>\n",
       "    </tr>\n",
       "    <tr>\n",
       "      <th>Sao Tome and Principe</th>\n",
       "      <td>4.0</td>\n",
       "      <td>0.0</td>\n",
       "      <td>0.0</td>\n",
       "    </tr>\n",
       "    <tr>\n",
       "      <th>Yemen</th>\n",
       "      <td>1.0</td>\n",
       "      <td>0.0</td>\n",
       "      <td>1.0</td>\n",
       "    </tr>\n",
       "  </tbody>\n",
       "</table>\n",
       "<p>187 rows × 3 columns</p>\n",
       "</div>"
      ],
      "text/plain": [
       "                       Confirmed   Deaths  Recovered\n",
       "Country/Region                                      \n",
       "US                      905333.0  51949.0    99079.0\n",
       "Spain                   219764.0  22524.0    92355.0\n",
       "Italy                   192994.0  25969.0    60498.0\n",
       "France                  159952.0  22279.0    44271.0\n",
       "Germany                 154999.0   5760.0   109800.0\n",
       "...                          ...      ...        ...\n",
       "Bhutan                       7.0      0.0        3.0\n",
       "Western Sahara               6.0      0.0        5.0\n",
       "South Sudan                  5.0      0.0        0.0\n",
       "Sao Tome and Principe        4.0      0.0        0.0\n",
       "Yemen                        1.0      0.0        1.0\n",
       "\n",
       "[187 rows x 3 columns]"
      ]
     },
     "execution_count": 44,
     "metadata": {},
     "output_type": "execute_result"
    }
   ],
   "source": [
    "country_wise = d[d['ObservationDate']==d['ObservationDate'].max()].groupby(['Country/Region']).agg({'Confirmed':'sum','Deaths':'sum','Recovered':'sum'}).sort_values(['Confirmed'],ascending=False)\n",
    "country_wise"
   ]
  },
  {
   "cell_type": "code",
   "execution_count": 49,
   "id": "677c1b18",
   "metadata": {},
   "outputs": [
    {
     "data": {
      "text/html": [
       "<div>\n",
       "<style scoped>\n",
       "    .dataframe tbody tr th:only-of-type {\n",
       "        vertical-align: middle;\n",
       "    }\n",
       "\n",
       "    .dataframe tbody tr th {\n",
       "        vertical-align: top;\n",
       "    }\n",
       "\n",
       "    .dataframe thead th {\n",
       "        text-align: right;\n",
       "    }\n",
       "</style>\n",
       "<table border=\"1\" class=\"dataframe\">\n",
       "  <thead>\n",
       "    <tr style=\"text-align: right;\">\n",
       "      <th></th>\n",
       "      <th>Confirmed</th>\n",
       "      <th>Deaths</th>\n",
       "      <th>Recovered</th>\n",
       "      <th>mortality</th>\n",
       "    </tr>\n",
       "    <tr>\n",
       "      <th>Country/Region</th>\n",
       "      <th></th>\n",
       "      <th></th>\n",
       "      <th></th>\n",
       "      <th></th>\n",
       "    </tr>\n",
       "  </thead>\n",
       "  <tbody>\n",
       "    <tr>\n",
       "      <th>US</th>\n",
       "      <td>905333.0</td>\n",
       "      <td>51949.0</td>\n",
       "      <td>52.431898</td>\n",
       "      <td>99079.0</td>\n",
       "    </tr>\n",
       "    <tr>\n",
       "      <th>Spain</th>\n",
       "      <td>219764.0</td>\n",
       "      <td>22524.0</td>\n",
       "      <td>24.388501</td>\n",
       "      <td>92355.0</td>\n",
       "    </tr>\n",
       "    <tr>\n",
       "      <th>Italy</th>\n",
       "      <td>192994.0</td>\n",
       "      <td>25969.0</td>\n",
       "      <td>42.925386</td>\n",
       "      <td>60498.0</td>\n",
       "    </tr>\n",
       "    <tr>\n",
       "      <th>France</th>\n",
       "      <td>159952.0</td>\n",
       "      <td>22279.0</td>\n",
       "      <td>50.324140</td>\n",
       "      <td>44271.0</td>\n",
       "    </tr>\n",
       "    <tr>\n",
       "      <th>Germany</th>\n",
       "      <td>154999.0</td>\n",
       "      <td>5760.0</td>\n",
       "      <td>5.245902</td>\n",
       "      <td>109800.0</td>\n",
       "    </tr>\n",
       "    <tr>\n",
       "      <th>...</th>\n",
       "      <td>...</td>\n",
       "      <td>...</td>\n",
       "      <td>...</td>\n",
       "      <td>...</td>\n",
       "    </tr>\n",
       "    <tr>\n",
       "      <th>Bhutan</th>\n",
       "      <td>7.0</td>\n",
       "      <td>0.0</td>\n",
       "      <td>0.000000</td>\n",
       "      <td>NaN</td>\n",
       "    </tr>\n",
       "    <tr>\n",
       "      <th>Western Sahara</th>\n",
       "      <td>6.0</td>\n",
       "      <td>0.0</td>\n",
       "      <td>0.000000</td>\n",
       "      <td>NaN</td>\n",
       "    </tr>\n",
       "    <tr>\n",
       "      <th>South Sudan</th>\n",
       "      <td>5.0</td>\n",
       "      <td>0.0</td>\n",
       "      <td>NaN</td>\n",
       "      <td>NaN</td>\n",
       "    </tr>\n",
       "    <tr>\n",
       "      <th>Sao Tome and Principe</th>\n",
       "      <td>4.0</td>\n",
       "      <td>0.0</td>\n",
       "      <td>NaN</td>\n",
       "      <td>NaN</td>\n",
       "    </tr>\n",
       "    <tr>\n",
       "      <th>Yemen</th>\n",
       "      <td>1.0</td>\n",
       "      <td>0.0</td>\n",
       "      <td>0.000000</td>\n",
       "      <td>NaN</td>\n",
       "    </tr>\n",
       "  </tbody>\n",
       "</table>\n",
       "<p>187 rows × 4 columns</p>\n",
       "</div>"
      ],
      "text/plain": [
       "                       Confirmed   Deaths  Recovered  mortality\n",
       "Country/Region                                                 \n",
       "US                      905333.0  51949.0  52.431898    99079.0\n",
       "Spain                   219764.0  22524.0  24.388501    92355.0\n",
       "Italy                   192994.0  25969.0  42.925386    60498.0\n",
       "France                  159952.0  22279.0  50.324140    44271.0\n",
       "Germany                 154999.0   5760.0   5.245902   109800.0\n",
       "...                          ...      ...        ...        ...\n",
       "Bhutan                       7.0      0.0   0.000000        NaN\n",
       "Western Sahara               6.0      0.0   0.000000        NaN\n",
       "South Sudan                  5.0      0.0        NaN        NaN\n",
       "Sao Tome and Principe        4.0      0.0        NaN        NaN\n",
       "Yemen                        1.0      0.0   0.000000        NaN\n",
       "\n",
       "[187 rows x 4 columns]"
      ]
     },
     "execution_count": 49,
     "metadata": {},
     "output_type": "execute_result"
    }
   ],
   "source": [
    "country_wise['mortality']=(country_wise['Deaths']/country_wise['Recovered'])*100\n",
    "country_wise\n"
   ]
  },
  {
   "cell_type": "code",
   "execution_count": 50,
   "id": "b5fcf7fb",
   "metadata": {},
   "outputs": [
    {
     "data": {
      "text/html": [
       "<div>\n",
       "<style scoped>\n",
       "    .dataframe tbody tr th:only-of-type {\n",
       "        vertical-align: middle;\n",
       "    }\n",
       "\n",
       "    .dataframe tbody tr th {\n",
       "        vertical-align: top;\n",
       "    }\n",
       "\n",
       "    .dataframe thead th {\n",
       "        text-align: right;\n",
       "    }\n",
       "</style>\n",
       "<table border=\"1\" class=\"dataframe\">\n",
       "  <thead>\n",
       "    <tr style=\"text-align: right;\">\n",
       "      <th></th>\n",
       "      <th>Confirmed</th>\n",
       "      <th>Deaths</th>\n",
       "      <th>Recovered</th>\n",
       "      <th>mortality</th>\n",
       "    </tr>\n",
       "    <tr>\n",
       "      <th>Country/Region</th>\n",
       "      <th></th>\n",
       "      <th></th>\n",
       "      <th></th>\n",
       "      <th></th>\n",
       "    </tr>\n",
       "  </thead>\n",
       "  <tbody>\n",
       "    <tr>\n",
       "      <th>US</th>\n",
       "      <td>905333.0</td>\n",
       "      <td>51949.0</td>\n",
       "      <td>99079.0</td>\n",
       "      <td>99079.0</td>\n",
       "    </tr>\n",
       "    <tr>\n",
       "      <th>Spain</th>\n",
       "      <td>219764.0</td>\n",
       "      <td>22524.0</td>\n",
       "      <td>92355.0</td>\n",
       "      <td>92355.0</td>\n",
       "    </tr>\n",
       "    <tr>\n",
       "      <th>Italy</th>\n",
       "      <td>192994.0</td>\n",
       "      <td>25969.0</td>\n",
       "      <td>60498.0</td>\n",
       "      <td>60498.0</td>\n",
       "    </tr>\n",
       "    <tr>\n",
       "      <th>France</th>\n",
       "      <td>159952.0</td>\n",
       "      <td>22279.0</td>\n",
       "      <td>44271.0</td>\n",
       "      <td>44271.0</td>\n",
       "    </tr>\n",
       "    <tr>\n",
       "      <th>Germany</th>\n",
       "      <td>154999.0</td>\n",
       "      <td>5760.0</td>\n",
       "      <td>109800.0</td>\n",
       "      <td>109800.0</td>\n",
       "    </tr>\n",
       "    <tr>\n",
       "      <th>...</th>\n",
       "      <td>...</td>\n",
       "      <td>...</td>\n",
       "      <td>...</td>\n",
       "      <td>...</td>\n",
       "    </tr>\n",
       "    <tr>\n",
       "      <th>Bhutan</th>\n",
       "      <td>7.0</td>\n",
       "      <td>0.0</td>\n",
       "      <td>NaN</td>\n",
       "      <td>NaN</td>\n",
       "    </tr>\n",
       "    <tr>\n",
       "      <th>Western Sahara</th>\n",
       "      <td>6.0</td>\n",
       "      <td>0.0</td>\n",
       "      <td>NaN</td>\n",
       "      <td>NaN</td>\n",
       "    </tr>\n",
       "    <tr>\n",
       "      <th>South Sudan</th>\n",
       "      <td>5.0</td>\n",
       "      <td>0.0</td>\n",
       "      <td>NaN</td>\n",
       "      <td>NaN</td>\n",
       "    </tr>\n",
       "    <tr>\n",
       "      <th>Sao Tome and Principe</th>\n",
       "      <td>4.0</td>\n",
       "      <td>0.0</td>\n",
       "      <td>NaN</td>\n",
       "      <td>NaN</td>\n",
       "    </tr>\n",
       "    <tr>\n",
       "      <th>Yemen</th>\n",
       "      <td>1.0</td>\n",
       "      <td>0.0</td>\n",
       "      <td>NaN</td>\n",
       "      <td>NaN</td>\n",
       "    </tr>\n",
       "  </tbody>\n",
       "</table>\n",
       "<p>187 rows × 4 columns</p>\n",
       "</div>"
      ],
      "text/plain": [
       "                       Confirmed   Deaths  Recovered  mortality\n",
       "Country/Region                                                 \n",
       "US                      905333.0  51949.0    99079.0    99079.0\n",
       "Spain                   219764.0  22524.0    92355.0    92355.0\n",
       "Italy                   192994.0  25969.0    60498.0    60498.0\n",
       "France                  159952.0  22279.0    44271.0    44271.0\n",
       "Germany                 154999.0   5760.0   109800.0   109800.0\n",
       "...                          ...      ...        ...        ...\n",
       "Bhutan                       7.0      0.0        NaN        NaN\n",
       "Western Sahara               6.0      0.0        NaN        NaN\n",
       "South Sudan                  5.0      0.0        NaN        NaN\n",
       "Sao Tome and Principe        4.0      0.0        NaN        NaN\n",
       "Yemen                        1.0      0.0        NaN        NaN\n",
       "\n",
       "[187 rows x 4 columns]"
      ]
     },
     "execution_count": 50,
     "metadata": {},
     "output_type": "execute_result"
    }
   ],
   "source": [
    "country_wise['Recovered']=(country_wise['Deaths']/country_wise['Recovered'])*100\n",
    "country_wise"
   ]
  },
  {
   "cell_type": "code",
   "execution_count": 51,
   "id": "ac7d4153",
   "metadata": {},
   "outputs": [
    {
     "data": {
      "text/plain": [
       "<AxesSubplot:xlabel='Deaths', ylabel='Country/Region'>"
      ]
     },
     "execution_count": 51,
     "metadata": {},
     "output_type": "execute_result"
    },
    {
     "data": {
      "image/png": "[encoded data removed]",
      "text/plain": [
       "<Figure size 1440x504 with 2 Axes>"
      ]
     },
     "metadata": {
      "needs_background": "light"
     },
     "output_type": "display_data"
    }
   ],
   "source": [
    "fig,(ax1,ax2)=plt.subplots(1,2,figsize=(20,7))\n",
    "top15_confirmed=country_wise.sort_values(['Confirmed'],ascending=False).head(15)\n",
    "top15_death=country_wise.sort_values(['Deaths'],ascending=False).head(15)\n",
    "sns.barplot(x=top15_confirmed['Confirmed'],y=top15_confirmed.index,ax=ax1)\n",
    "sns.barplot(x=top15_confirmed['Deaths'],y=top15_death.index,ax=ax2)\n",
    "ax1.set_title('Top15 countries as per number of confirmed cases')\n",
    "plt.show()"
   ]
  },
  {
   "cell_type": "code",
   "execution_count": null,
   "id": "7d606729",
   "metadata": {},
   "outputs": [],
   "source": []
  }
 ],
 "metadata": {
  "kernelspec": {
   "display_name": "Python 3 (ipykernel)",
   "language": "python",
   "name": "python3"
  },
  "language_info": {
   "codemirror_mode": {
    "name": "ipython",
    "version": 3
   },
   "file_extension": ".py",
   "mimetype": "text/x-python",
   "name": "python",
   "nbconvert_exporter": "python",
   "pygments_lexer": "ipython3",
   "version": "3.9.7"
  }
 },
 "nbformat": 4,
 "nbformat_minor": 5
}
