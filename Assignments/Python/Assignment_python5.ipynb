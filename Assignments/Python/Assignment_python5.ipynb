{
 "cells": [
  {
   "cell_type": "markdown",
   "id": "5d9573a5",
   "metadata": {},
   "source": [
    "# 1.Calculate square  of all numbers between 0-10 using list comprehensions\n",
    "   "
   ]
  },
  {
   "cell_type": "code",
   "execution_count": 4,
   "id": "1f1156c0",
   "metadata": {},
   "outputs": [
    {
     "data": {
      "text/plain": [
       "[0, 1, 4, 9, 16, 25, 36, 49, 64, 81, 100]"
      ]
     },
     "execution_count": 4,
     "metadata": {},
     "output_type": "execute_result"
    }
   ],
   "source": [
    "list=[0,1,2,3,4,5,6,7,8,9,10]\n",
    "new_list=[x*x for x in list]\n",
    "new_list"
   ]
  },
  {
   "cell_type": "markdown",
   "id": "bf23ce6d",
   "metadata": {},
   "source": [
    "# 2.multiply whole list by 10\n",
    "   "
   ]
  },
  {
   "cell_type": "code",
   "execution_count": 5,
   "id": "ed39a72a",
   "metadata": {},
   "outputs": [
    {
     "data": {
      "text/plain": [
       "[0, 10, 20, 30, 40, 50, 60, 70, 80, 90, 100]"
      ]
     },
     "execution_count": 5,
     "metadata": {},
     "output_type": "execute_result"
    }
   ],
   "source": [
    "list=[0,1,2,3,4,5,6,7,8,9,10]\n",
    "new_list=[x*10 for x in list]\n",
    "new_list"
   ]
  },
  {
   "cell_type": "markdown",
   "id": "61cc2253",
   "metadata": {},
   "source": [
    "# 3.extract numbers from a string using list comprehension\n",
    "   "
   ]
  },
  {
   "cell_type": "code",
   "execution_count": 7,
   "id": "ca55695e",
   "metadata": {},
   "outputs": [
    {
     "name": "stdout",
     "output_type": "stream",
     "text": [
      "2\n",
      "3\n"
     ]
    }
   ],
   "source": [
    "str='ab23cde'\n",
    "l=[char for char in str]\n",
    "\n",
    "for i in l:\n",
    "    if i.isnumeric():\n",
    "        print(i)\n"
   ]
  },
  {
   "cell_type": "markdown",
   "id": "c448b4bc",
   "metadata": {},
   "source": [
    "# 4.Write the program to remove the duplicate element of the list.\n",
    "   "
   ]
  },
  {
   "cell_type": "code",
   "execution_count": 7,
   "id": "aa599f00",
   "metadata": {},
   "outputs": [
    {
     "name": "stdout",
     "output_type": "stream",
     "text": [
      "Enter the list a b c d a b\n",
      "List after removing duplicate elements ['a', 'b', 'c', 'd']\n",
      "Removed elements are ['a', 'b']\n"
     ]
    }
   ],
   "source": [
    "\n",
    "l=[item for item in input(\"Enter the list \").split()]\n",
    "\n",
    "l1=[]\n",
    "l2=[]\n",
    "for i in l:\n",
    "    if i not in l1:\n",
    "        l1.append(i)\n",
    "    else:\n",
    "        l2.append(i)\n",
    "\n",
    "print(\"List after removing duplicate elements\",l1)\n",
    "print(\"Removed elements are\",l2)"
   ]
  },
  {
   "cell_type": "markdown",
   "id": "b76443fe",
   "metadata": {},
   "source": [
    "# 5.Write a program to find the sum of the element in the list.\n",
    "   "
   ]
  },
  {
   "cell_type": "code",
   "execution_count": 9,
   "id": "329929c6",
   "metadata": {},
   "outputs": [
    {
     "name": "stdout",
     "output_type": "stream",
     "text": [
      "Enter the list to be added 1 5 10 4 6 4\n",
      "Sum of the list is  30\n"
     ]
    }
   ],
   "source": [
    "list=[int(item) for item in input(\"Enter the list to be added \").split()]\n",
    "sum = 0\n",
    "\n",
    "for i in list:\n",
    "    sum = sum + i\n",
    "print(\"Sum of the list is \",sum)"
   ]
  },
  {
   "cell_type": "markdown",
   "id": "495552a2",
   "metadata": {},
   "source": [
    "# 6.Write the program to find the lists consist of at least one common element."
   ]
  },
  {
   "cell_type": "code",
   "execution_count": 15,
   "id": "094a346a",
   "metadata": {},
   "outputs": [
    {
     "name": "stdout",
     "output_type": "stream",
     "text": [
      "Enter first list 1 2 3 4\n",
      "Enter the second list 8 9 1 2\n",
      "1\n",
      "True\n"
     ]
    }
   ],
   "source": [
    "#Checks whether 2 lists have atleast one common element\n",
    "\n",
    "list1=[int(item) for item in input(\"Enter first list \").split()]\n",
    "list2=[int(item) for item in input(\"Enter the second list \").split()]\n",
    "have_common_ele = False\n",
    "\n",
    "for i in list1:\n",
    "    if i in list2:\n",
    "        have_common_ele = True\n",
    "        break\n",
    "print(have_common_ele)"
   ]
  },
  {
   "cell_type": "code",
   "execution_count": null,
   "id": "dbfa0a7c",
   "metadata": {},
   "outputs": [],
   "source": []
  }
 ],
 "metadata": {
  "kernelspec": {
   "display_name": "Python 3 (ipykernel)",
   "language": "python",
   "name": "python3"
  },
  "language_info": {
   "codemirror_mode": {
    "name": "ipython",
    "version": 3
   },
   "file_extension": ".py",
   "mimetype": "text/x-python",
   "name": "python",
   "nbconvert_exporter": "python",
   "pygments_lexer": "ipython3",
   "version": "3.9.7"
  }
 },
 "nbformat": 4,
 "nbformat_minor": 5
}
