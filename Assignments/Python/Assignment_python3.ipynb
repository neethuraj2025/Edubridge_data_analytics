{
 "cells": [
  {
   "cell_type": "markdown",
   "id": "035d64a9",
   "metadata": {},
   "source": [
    "# 1.Program to find the roots of quadratic equation\n",
    "   \n",
    "   \n",
    "    \n",
    "   \n",
    "   \n",
    "   \n",
    "   \n",
    "   "
   ]
  },
  {
   "cell_type": "code",
   "execution_count": 11,
   "id": "8ea75f41",
   "metadata": {},
   "outputs": [
    {
     "name": "stdout",
     "output_type": "stream",
     "text": [
      "Enter 'a' value:12\n",
      "Enter 'b' value:4\n",
      "Enter 'c' value:2\n",
      "Complex Roots\n",
      "-0.16666666666666666  + i 8.94427190999916\n",
      "-0.16666666666666666  - i 8.94427190999916\n"
     ]
    }
   ],
   "source": [
    "import math\n",
    "a=int(input(\"Enter 'a' value:\"))\n",
    "b=int(input(\"Enter 'b' value:\"))\n",
    "c=int(input(\"Enter 'c' value:\"))\n",
    "#finding discriminant\n",
    "dis = b*b - 4*a*c\n",
    "sqrt_dis= math.sqrt(abs(dis)) #abs to remove negetive sign\n",
    "                \n",
    "if dis > 0: \n",
    "        print(\" real and different roots \") \n",
    "        print((-b + sqrt_dis)/(2 * a)) \n",
    "        print((-b - sqrt_dis)/(2 * a)) \n",
    "elif dis == 0: \n",
    "        print(\" real and same roots\") \n",
    "        print(-b / (2 * a)) \n",
    "else:\n",
    "        print(\"Complex Roots\") \n",
    "        print(- b / (2 * a), \" + i\", sqrt_dis) \n",
    "        print(- b / (2 * a), \" - i\", sqrt_dis)\n",
    "                    "
   ]
  },
  {
   "cell_type": "markdown",
   "id": "0e897420",
   "metadata": {},
   "source": [
    "# 2.Program to check whether a given number is prime or not"
   ]
  },
  {
   "cell_type": "code",
   "execution_count": 41,
   "id": "18d1bd80",
   "metadata": {},
   "outputs": [
    {
     "name": "stdout",
     "output_type": "stream",
     "text": [
      "Enter a number5\n",
      "Given number is prime\n"
     ]
    }
   ],
   "source": [
    "num=int(input(\"Enter a number\"))\n",
    "prime=0\n",
    "for i in range(2,num):\n",
    "    if num % i == 0:\n",
    "        prime=1\n",
    "        break\n",
    "if prime == 1  :\n",
    "    print(\"Given number is not prime\")\n",
    "else:\n",
    "    print(\"Given number is prime\")"
   ]
  },
  {
   "cell_type": "markdown",
   "id": "545e3732",
   "metadata": {},
   "source": [
    "# 3.program to print fibonacci series"
   ]
  },
  {
   "cell_type": "code",
   "execution_count": 12,
   "id": "d22b5592",
   "metadata": {},
   "outputs": [
    {
     "name": "stdout",
     "output_type": "stream",
     "text": [
      "Enter the range7\n",
      "0\n",
      "1\n",
      "1\n",
      "2\n",
      "3\n",
      "5\n",
      "8\n"
     ]
    }
   ],
   "source": [
    "num=int(input(\"Enter the range\"))\n",
    "val1=0\n",
    "val2=1\n",
    "print(val1)\n",
    "print(val2)\n",
    "for i in range(num-2):\n",
    "    temp=val1 + val2\n",
    "    print(temp)\n",
    "    val1=val2\n",
    "    val2=temp\n",
    "    "
   ]
  },
  {
   "cell_type": "markdown",
   "id": "f6d0bf43",
   "metadata": {},
   "source": [
    "# 4.program to check amstrong number or not "
   ]
  },
  {
   "cell_type": "code",
   "execution_count": 59,
   "id": "104e0177",
   "metadata": {},
   "outputs": [
    {
     "name": "stdout",
     "output_type": "stream",
     "text": [
      "Enter the number: 153\n",
      "amstrong number\n"
     ]
    }
   ],
   "source": [
    "num = int(input(\"Enter the number: \"))\n",
    "sum=0\n",
    "num1=num\n",
    "count=len(str(num))\n",
    "\n",
    "while num != 0:\n",
    "    product=1\n",
    "    digit=num%10\n",
    "    for i in range(count):\n",
    "        product=product*digit\n",
    "    sum=product+sum\n",
    "    num//=10\n",
    "if sum== num1:\n",
    "    print(\"amstrong number\")\n",
    "else:\n",
    "    print(\"not amstrong\")\n",
    "     "
   ]
  },
  {
   "cell_type": "markdown",
   "id": "35ec72cd",
   "metadata": {},
   "source": [
    "# 5.program to print the pyramid (nested loop)"
   ]
  },
  {
   "cell_type": "code",
   "execution_count": 15,
   "id": "310dcde2",
   "metadata": {},
   "outputs": [
    {
     "name": "stdout",
     "output_type": "stream",
     "text": [
      "    * \r\n",
      "   * * \r\n",
      "  * * * \r\n",
      " * * * * \r\n",
      "* * * * * \r\n"
     ]
    }
   ],
   "source": [
    "n=5\n",
    "k=4\n",
    "for i in range(0, n):\n",
    "    for j in range(0,k):\n",
    "        print(end=\" \")\n",
    "    k=k-1\n",
    "    for j in range(0, i+1):\n",
    "        print(\"* \", end=\"\")\n",
    "            \n",
    "    print(\"\\r\")"
   ]
  },
  {
   "cell_type": "markdown",
   "id": "16f45118",
   "metadata": {},
   "source": [
    "# 6.program to check strong number or not "
   ]
  },
  {
   "cell_type": "code",
   "execution_count": 58,
   "id": "f8118e72",
   "metadata": {},
   "outputs": [
    {
     "name": "stdout",
     "output_type": "stream",
     "text": [
      "Enter the number: 145\n",
      "The number is strong\n"
     ]
    }
   ],
   "source": [
    "#sum of digit's factorail is the same number eg :145,1,2\n",
    "sum=0\n",
    "num = int(input(\"Enter the number: \"))\n",
    "num1=num\n",
    "while num != 0:\n",
    "    f=1\n",
    "    digit=num%10\n",
    "    while digit>0:\n",
    "      f=f*digit\n",
    "      digit=digit-1\n",
    "    sum=sum + f\n",
    "    num//=10\n",
    "if num1==sum:\n",
    "          print(\"The number is strong\")\n",
    "else:\n",
    "          print(\"The number is not strong\")"
   ]
  },
  {
   "cell_type": "markdown",
   "id": "619aa863",
   "metadata": {},
   "source": [
    "# 7. program to check perfect number or not "
   ]
  },
  {
   "cell_type": "code",
   "execution_count": 57,
   "id": "58389d8f",
   "metadata": {},
   "outputs": [
    {
     "name": "stdout",
     "output_type": "stream",
     "text": [
      "Enter a number6\n",
      "Given number is a perfect number\n"
     ]
    }
   ],
   "source": [
    "num=int(input(\"Enter a number\"))\n",
    "sum=0\n",
    "for i in range(1,num-1):\n",
    "    if num % i == 0:\n",
    "        sum+=i\n",
    "        \n",
    "if sum == num  :\n",
    "    print(\"Given number is a perfect number\")\n",
    "else:\n",
    "    print(\"Given number not perfect\")"
   ]
  },
  {
   "cell_type": "markdown",
   "id": "6f5773d4",
   "metadata": {},
   "source": [
    "# 8. program to check whether a given number is palindrome or not"
   ]
  },
  {
   "cell_type": "code",
   "execution_count": 39,
   "id": "7217d6dc",
   "metadata": {},
   "outputs": [
    {
     "name": "stdout",
     "output_type": "stream",
     "text": [
      "Enter the number: 12321\n",
      "The given number is palindrome\n"
     ]
    }
   ],
   "source": [
    " num = int(input(\"Enter the number: \"))\n",
    "rev_num=0\n",
    "num1=num\n",
    "while num != 0:\n",
    "    digit=num%10\n",
    "    rev_num=rev_num*10 + digit\n",
    "    num//=10\n",
    "     \n",
    "if rev_num==num1:\n",
    "    print(\"The given number is palindrome\")\n",
    "else:\n",
    "    print(\"Not a palindrome\")"
   ]
  },
  {
   "cell_type": "markdown",
   "id": "4f593d9f",
   "metadata": {},
   "source": [
    "# 9. find factors of a number'''"
   ]
  },
  {
   "cell_type": "code",
   "execution_count": 56,
   "id": "f4dc7ce9",
   "metadata": {},
   "outputs": [
    {
     "name": "stdout",
     "output_type": "stream",
     "text": [
      "Enter a number75\n",
      "1\n",
      "3\n",
      "5\n",
      "15\n",
      "25\n"
     ]
    }
   ],
   "source": [
    "num=int(input(\"Enter a number\"))\n",
    "sum=0\n",
    "for i in range(1,num):\n",
    "    if num % i == 0:\n",
    "        print(i)\n"
   ]
  },
  {
   "cell_type": "code",
   "execution_count": null,
   "id": "a3e44069",
   "metadata": {},
   "outputs": [],
   "source": []
  }
 ],
 "metadata": {
  "kernelspec": {
   "display_name": "Python 3 (ipykernel)",
   "language": "python",
   "name": "python3"
  },
  "language_info": {
   "codemirror_mode": {
    "name": "ipython",
    "version": 3
   },
   "file_extension": ".py",
   "mimetype": "text/x-python",
   "name": "python",
   "nbconvert_exporter": "python",
   "pygments_lexer": "ipython3",
   "version": "3.9.7"
  }
 },
 "nbformat": 4,
 "nbformat_minor": 5
}
