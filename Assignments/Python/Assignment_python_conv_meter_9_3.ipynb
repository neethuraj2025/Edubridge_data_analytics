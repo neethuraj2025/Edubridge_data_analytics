{
 "cells": [
  {
   "cell_type": "markdown",
   "id": "44082077",
   "metadata": {},
   "source": [
    "## Coversion meter"
   ]
  },
  {
   "cell_type": "code",
   "execution_count": 10,
   "id": "6853383a",
   "metadata": {},
   "outputs": [],
   "source": [
    "from tkinter import *\n",
    "\n",
    "def convert():\n",
    "    res=int(e1.get()) * 60 * 60\n",
    "    myText.set(res)\n",
    "\n",
    "\n",
    "    \n",
    "window = Tk()\n",
    "myText=StringVar()\n",
    "Label(window, text=\"Conversion meter-Hours to seconds\",fg=\"red\",bg=\"grey\",font=(\"Lucida Calligraphy\",25)).place(x=400,y=40)\n",
    "\n",
    "Label(window, text=\"Hours :\").place(x=550,y=130)\n",
    "Label(window, text=\"Seconds:\").place(x=550,y=170)\n",
    "\n",
    "result=Label(window, text=\"\", textvariable=myText).place(x=620,y=170)\n",
    "\n",
    "e1 = Entry(window)\n",
    "e1.place(x=610,y=130)\n",
    "\n",
    "\n",
    "b = Button(window, text=\"convert\", command=convert)\n",
    "b.place(x=580,y=230)\n",
    "\n",
    "window.mainloop()"
   ]
  },
  {
   "cell_type": "code",
   "execution_count": null,
   "id": "9c375249",
   "metadata": {},
   "outputs": [],
   "source": []
  }
 ],
 "metadata": {
  "kernelspec": {
   "display_name": "Python 3 (ipykernel)",
   "language": "python",
   "name": "python3"
  },
  "language_info": {
   "codemirror_mode": {
    "name": "ipython",
    "version": 3
   },
   "file_extension": ".py",
   "mimetype": "text/x-python",
   "name": "python",
   "nbconvert_exporter": "python",
   "pygments_lexer": "ipython3",
   "version": "3.9.7"
  }
 },
 "nbformat": 4,
 "nbformat_minor": 5
}
