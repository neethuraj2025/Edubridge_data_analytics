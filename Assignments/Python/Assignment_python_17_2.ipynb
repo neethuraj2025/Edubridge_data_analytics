{
 "cells": [
  {
   "cell_type": "markdown",
   "id": "907bf02d",
   "metadata": {},
   "source": [
    "## Assignment17/2\n"
   ]
  },
  {
   "cell_type": "markdown",
   "id": "32362724",
   "metadata": {},
   "source": [
    "### 1. First character in string"
   ]
  },
  {
   "cell_type": "code",
   "execution_count": 8,
   "id": "ea5017ad",
   "metadata": {},
   "outputs": [
    {
     "name": "stdout",
     "output_type": "stream",
     "text": [
      "First character of the string is P\n"
     ]
    }
   ],
   "source": [
    "str=\"Python programming\"\n",
    "print(\"First character of the string is\",str[0] )"
   ]
  },
  {
   "cell_type": "markdown",
   "id": "4ad206d7",
   "metadata": {},
   "source": [
    "### 2.Last character in string using len function"
   ]
  },
  {
   "cell_type": "code",
   "execution_count": 10,
   "id": "8beb70fc",
   "metadata": {},
   "outputs": [
    {
     "name": "stdout",
     "output_type": "stream",
     "text": [
      "Last character of the string is g\n"
     ]
    }
   ],
   "source": [
    "str=\"Python programming\"\n",
    "str_len=len(str)\n",
    "print(\"Last character of the string is\",str[str_len-1])"
   ]
  },
  {
   "cell_type": "markdown",
   "id": "d47347a4",
   "metadata": {},
   "source": [
    "### 3.Last character in string"
   ]
  },
  {
   "cell_type": "code",
   "execution_count": 12,
   "id": "62f797dc",
   "metadata": {},
   "outputs": [
    {
     "name": "stdout",
     "output_type": "stream",
     "text": [
      "Last character of the string is g\n"
     ]
    }
   ],
   "source": [
    "str=\"Python programming\"\n",
    "print(\"Last character of the string is\",str[-1] )"
   ]
  },
  {
   "cell_type": "markdown",
   "id": "f41c2943",
   "metadata": {},
   "source": [
    "### 4.Fetch the 7th element of the string"
   ]
  },
  {
   "cell_type": "code",
   "execution_count": 20,
   "id": "41baab5f",
   "metadata": {},
   "outputs": [
    {
     "name": "stdout",
     "output_type": "stream",
     "text": [
      "The seventh element of the string is' o '\n"
     ]
    }
   ],
   "source": [
    "str=\"Python programming\"\n",
    "print(\"The seventh element of the string is'\",str[4],\"'\")"
   ]
  },
  {
   "cell_type": "markdown",
   "id": "1a9a1d70",
   "metadata": {},
   "source": [
    "### 5.Fetch all characters from 0 to 5 index location excluding the character at loc 5."
   ]
  },
  {
   "cell_type": "code",
   "execution_count": 22,
   "id": "63c41b96",
   "metadata": {},
   "outputs": [
    {
     "name": "stdout",
     "output_type": "stream",
     "text": [
      "Pytho\n"
     ]
    }
   ],
   "source": [
    "str=\"Python programming\"\n",
    "print(str[:5])"
   ]
  },
  {
   "cell_type": "markdown",
   "id": "23a00ddb",
   "metadata": {},
   "source": [
    "### 6.Retrieve all characters between 6 -12 index ecluding loc 12."
   ]
  },
  {
   "cell_type": "code",
   "execution_count": 24,
   "id": "c1d3d7c8",
   "metadata": {},
   "outputs": [
    {
     "name": "stdout",
     "output_type": "stream",
     "text": [
      " progr\n"
     ]
    }
   ],
   "source": [
    "str=\"Python programming\"\n",
    "print(str[6:12])"
   ]
  },
  {
   "cell_type": "markdown",
   "id": "b8eab014",
   "metadata": {},
   "source": [
    "### 7.Retrieve last four characters of the string"
   ]
  },
  {
   "cell_type": "code",
   "execution_count": 26,
   "id": "f62df0d0",
   "metadata": {},
   "outputs": [
    {
     "name": "stdout",
     "output_type": "stream",
     "text": [
      "ming\n"
     ]
    }
   ],
   "source": [
    "str=\"Python programming\"\n",
    "print(str[-4:])"
   ]
  },
  {
   "cell_type": "markdown",
   "id": "d1dcac12",
   "metadata": {},
   "source": [
    "### 8.retrieve last six characters of the string"
   ]
  },
  {
   "cell_type": "code",
   "execution_count": 27,
   "id": "2c6e591a",
   "metadata": {},
   "outputs": [
    {
     "name": "stdout",
     "output_type": "stream",
     "text": [
      "amming\n"
     ]
    }
   ],
   "source": [
    "str=\"Python programming\"\n",
    "print(str[-6:])"
   ]
  },
  {
   "cell_type": "markdown",
   "id": "ed948df1",
   "metadata": {},
   "source": [
    "### 9.retrieve first four characters of the string"
   ]
  },
  {
   "cell_type": "code",
   "execution_count": 28,
   "id": "30742eb3",
   "metadata": {},
   "outputs": [
    {
     "name": "stdout",
     "output_type": "stream",
     "text": [
      "Pyth\n"
     ]
    }
   ],
   "source": [
    "str=\"Python programming\"\n",
    "print(str[:4])"
   ]
  },
  {
   "cell_type": "code",
   "execution_count": null,
   "id": "2f7dddf4",
   "metadata": {},
   "outputs": [],
   "source": []
  }
 ],
 "metadata": {
  "kernelspec": {
   "display_name": "Python 3 (ipykernel)",
   "language": "python",
   "name": "python3"
  },
  "language_info": {
   "codemirror_mode": {
    "name": "ipython",
    "version": 3
   },
   "file_extension": ".py",
   "mimetype": "text/x-python",
   "name": "python",
   "nbconvert_exporter": "python",
   "pygments_lexer": "ipython3",
   "version": "3.9.7"
  }
 },
 "nbformat": 4,
 "nbformat_minor": 5
}
