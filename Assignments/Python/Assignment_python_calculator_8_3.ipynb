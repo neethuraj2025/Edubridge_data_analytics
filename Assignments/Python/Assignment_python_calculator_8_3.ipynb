{
 "cells": [
  {
   "cell_type": "code",
   "execution_count": 1,
   "id": "575f3502",
   "metadata": {},
   "outputs": [],
   "source": [
    "from tkinter import *"
   ]
  },
  {
   "cell_type": "code",
   "execution_count": 2,
   "id": "3251cf0a",
   "metadata": {},
   "outputs": [],
   "source": [
    "window=Tk()\n",
    "window.title(\"Calculator\")\n",
    "l=Label(window,text=\"Calculator\",fg=\"yellow\",bg=\"blue\",font=(\"Arial\",25),width=80)\n",
    "b=Button(window,text=\"/\",fg=\"white\",bg=\"blue\",font=(\"Arial\",12)).place(x=700,y=70)\n",
    "b=Button(window,text=\"9\",fg=\"white\",bg=\"blue\",font=(\"Arial\",12)).place(x=740,y=70)\n",
    "b=Button(window,text=\"8\",fg=\"white\",bg=\"blue\",font=(\"Arial\",12)).place(x=780,y=70)\n",
    "b=Button(window,text=\"7\",fg=\"white\",bg=\"blue\",font=(\"Arial\",12)).place(x=820,y=70)\n",
    "\n",
    "b=Button(window,text=\"+\",fg=\"white\",bg=\"blue\",font=(\"Arial\",12)).place(x=700,y=120)\n",
    "b=Button(window,text=\"6\",fg=\"white\",bg=\"blue\",font=(\"Arial\",12)).place(x=740,y=120)\n",
    "b=Button(window,text=\"5\",fg=\"white\",bg=\"blue\",font=(\"Arial\",12)).place(x=780,y=120)\n",
    "b=Button(window,text=\"4\",fg=\"white\",bg=\"blue\",font=(\"Arial\",12)).place(x=820,y=120)\n",
    "\n",
    "\n",
    "b=Button(window,text=\"-\",fg=\"white\",bg=\"blue\",font=(\"Arial\",12)).place(x=700,y=170)\n",
    "b=Button(window,text=\"3\",fg=\"white\",bg=\"blue\",font=(\"Arial\",12)).place(x=740,y=170)\n",
    "b=Button(window,text=\"2\",fg=\"white\",bg=\"blue\",font=(\"Arial\",12)).place(x=780,y=170)\n",
    "b=Button(window,text=\"1\",fg=\"white\",bg=\"blue\",font=(\"Arial\",12)).place(x=820,y=170)\n",
    "\n",
    "b=Button(window,text=\"*\",fg=\"white\",bg=\"blue\",font=(\"Arial\",12)).place(x=700,y=220)\n",
    "b=Button(window,text=\"C\",fg=\"white\",bg=\"blue\",font=(\"Arial\",12),width=6).place(x=740,y=220)\n",
    "b=Button(window,text=\"=\",fg=\"white\",bg=\"blue\",font=(\"Arial\",12)).place(x=820,y=220)\n",
    "\n",
    "\n",
    "\n",
    "window.configure(bg=\"grey\")\n",
    "\n",
    "\n",
    "l.pack() \n",
    "window.mainloop()"
   ]
  },
  {
   "cell_type": "code",
   "execution_count": null,
   "id": "893d0712",
   "metadata": {},
   "outputs": [],
   "source": []
  }
 ],
 "metadata": {
  "kernelspec": {
   "display_name": "Python 3 (ipykernel)",
   "language": "python",
   "name": "python3"
  },
  "language_info": {
   "codemirror_mode": {
    "name": "ipython",
    "version": 3
   },
   "file_extension": ".py",
   "mimetype": "text/x-python",
   "name": "python",
   "nbconvert_exporter": "python",
   "pygments_lexer": "ipython3",
   "version": "3.9.7"
  }
 },
 "nbformat": 4,
 "nbformat_minor": 5
}
