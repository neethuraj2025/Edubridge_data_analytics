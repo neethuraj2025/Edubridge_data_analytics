{
 "cells": [
  {
   "cell_type": "markdown",
   "id": "cf6e70ee",
   "metadata": {},
   "source": [
    "# WAP to check whether an year is leap year or not"
   ]
  },
  {
   "cell_type": "code",
   "execution_count": 2,
   "id": "69fb9d89",
   "metadata": {},
   "outputs": [
    {
     "name": "stdout",
     "output_type": "stream",
     "text": [
      "Enter  year300\n",
      "leap year\n"
     ]
    }
   ],
   "source": [
    "a=int(input(\"Enter  year\"))\n",
    "if a%4==0 or a%400==0 :\n",
    "    print(\"leap year\")\n",
    "else:\n",
    "    print(\"no\")"
   ]
  },
  {
   "cell_type": "markdown",
   "id": "421031f6",
   "metadata": {},
   "source": [
    "# WAP to print the respective day according to number 1to 7"
   ]
  },
  {
   "cell_type": "code",
   "execution_count": 4,
   "id": "ce062db6",
   "metadata": {},
   "outputs": [
    {
     "name": "stdout",
     "output_type": "stream",
     "text": [
      "Enter the number to find day(1-7)5\n",
      "Thursday\n"
     ]
    }
   ],
   "source": [
    "x=int(input(\"Enter the number to find day(1-7)\"))\n",
    "if x==1:\n",
    "    print(\"Sunday\")\n",
    "elif x==2:\n",
    "    print(\"Monday\")\n",
    "elif x==3:\n",
    "    print(\"Tuesday\")\n",
    "elif x==4:\n",
    "    print(\"Wednesday\")\n",
    "elif x==5:\n",
    "    print(\"Thursday\")\n",
    "elif x==6:\n",
    "    print(\"Friday\")\n",
    "elif x==7:\n",
    "    print(\"Saturday\")\n",
    "else:\n",
    "    print(\"Wrong number\")"
   ]
  },
  {
   "cell_type": "markdown",
   "id": "37f02083",
   "metadata": {},
   "source": [
    "# WAP to print the grade of student according to given criteria "
   ]
  },
  {
   "cell_type": "code",
   "execution_count": 6,
   "id": "5e4f886e",
   "metadata": {},
   "outputs": [
    {
     "name": "stdout",
     "output_type": "stream",
     "text": [
      "Enter the Mark of student64\n",
      "D Grade\n"
     ]
    }
   ],
   "source": [
    "x=int(input(\"Enter the Mark of student\"))\n",
    "if x>90:\n",
    "    print(\"A Grade\")\n",
    "elif x>75:\n",
    "    print(\"B Grade\")\n",
    "elif x>65:\n",
    "    print(\"C Grade\")\n",
    "elif x>50:\n",
    "    print(\"D Grade\")\n",
    "\n",
    "else:\n",
    "    print(\"Fail\")"
   ]
  },
  {
   "cell_type": "markdown",
   "id": "ae5d1a21",
   "metadata": {},
   "source": [
    "# Wap to print the three numbers in ascending order"
   ]
  },
  {
   "cell_type": "code",
   "execution_count": 9,
   "id": "14dfdba9",
   "metadata": {},
   "outputs": [
    {
     "name": "stdout",
     "output_type": "stream",
     "text": [
      "Enter first number98\n",
      "Enter second number56\n",
      "Enter third number25\n",
      "The numbers is ascending order is 25 56 98\n"
     ]
    }
   ],
   "source": [
    "num1=int(input(\"Enter first number\"))\n",
    "num2=int(input(\"Enter second number\"))\n",
    "num3=int(input(\"Enter third number\"))\n",
    "if num1 < num2 and num1<num3:\n",
    "    if num2<num3:\n",
    "        first=num1\n",
    "        second=num2\n",
    "        third=num3\n",
    "    else:\n",
    "        first=num1\n",
    "        second=num3\n",
    "        third=num2\n",
    "elif num2<num1 and num2<num3:\n",
    "    if num1<num3:\n",
    "        first=num2\n",
    "        second=num1\n",
    "        third=num3\n",
    "    else:\n",
    "        first=num2\n",
    "        second=num3\n",
    "        third=num1\n",
    "elif num3<num1 and num3<num2:\n",
    "    if num1<num2:\n",
    "        first=num3\n",
    "        second=num1\n",
    "        third=num2\n",
    "    else:\n",
    "        first=num3\n",
    "        second=num2\n",
    "        third=num1\n",
    "print(\"The numbers is ascending order is\",first,second,third)\n",
    "    "
   ]
  },
  {
   "cell_type": "markdown",
   "id": "4be90b79",
   "metadata": {},
   "source": [
    "# write a program to create the calculator\n"
   ]
  },
  {
   "cell_type": "code",
   "execution_count": 1,
   "id": "7e84eb06",
   "metadata": {},
   "outputs": [
    {
     "name": "stdout",
     "output_type": "stream",
     "text": [
      "Enter first number 12\n",
      "Enter second number 25\n",
      "Enter operation \n",
      "A:Addition \n",
      "S:Subtraction \n",
      "M:Multiplication\n",
      "D:Division\n",
      "S\n",
      "result =  -13\n"
     ]
    }
   ],
   "source": [
    "num1=int(input(\"Enter first number \"))\n",
    "num2=int(input(\"Enter second number \"))\n",
    "opr=input(\"Enter operation \\nA:Addition \\nS:Subtraction \\nM:Multiplication\\nD:Division\\n\")\n",
    "if opr == \"A\":\n",
    "    res = num1 + num2\n",
    "    print(\"result =\",res)\n",
    "elif opr == \"S\":\n",
    "    res = num1 - num2\n",
    "    print(\"result = \",res)\n",
    "elif opr == \"D\":\n",
    "    res = num1 / num2\n",
    "    print(\"result = \",res)\n",
    "elif opr == \"M\":\n",
    "    res = num1 * num2\n",
    "    print(\"result = \",res)\n",
    "else:\n",
    "    print(\"Invalid operation!\")\n",
    "   "
   ]
  },
  {
   "cell_type": "markdown",
   "id": "8e8c62d8",
   "metadata": {},
   "source": [
    "# Write a program to print the respective month according to number 1 to 12\n"
   ]
  },
  {
   "cell_type": "code",
   "execution_count": 5,
   "id": "64b0c5f4",
   "metadata": {},
   "outputs": [
    {
     "name": "stdout",
     "output_type": "stream",
     "text": [
      "Enter the number to find month(1-12)85\n",
      "Wrong entry\n"
     ]
    }
   ],
   "source": [
    "x=int(input(\"Enter the number to find month(1-12)\"))\n",
    "if x==1:\n",
    "    print(\"January\")\n",
    "elif x==2:\n",
    "    print(\"February\")\n",
    "elif x==3:\n",
    "    print(\"March\")\n",
    "elif x==4:\n",
    "    print(\"April\")\n",
    "elif x==5:\n",
    "    print(\"May\")\n",
    "elif x==6:\n",
    "    print(\"June\")\n",
    "elif x==7:\n",
    "    print(\"July\")\n",
    "elif x==3:\n",
    "    print(\"August\")\n",
    "elif x==4:\n",
    "    print(\"September\")\n",
    "elif x==5:\n",
    "    print(\"October\")\n",
    "elif x==6:\n",
    "    print(\"November\")\n",
    "elif x==7:\n",
    "    print(\"December\")\n",
    "else:\n",
    "    print(\"Wrong entry\")"
   ]
  },
  {
   "cell_type": "markdown",
   "id": "32dc80fa",
   "metadata": {},
   "source": [
    "# Print the greatest number between three numbers\n"
   ]
  },
  {
   "cell_type": "code",
   "execution_count": 6,
   "id": "a14fb202",
   "metadata": {},
   "outputs": [
    {
     "name": "stdout",
     "output_type": "stream",
     "text": [
      "Enter first number15\n",
      "Enter second number45\n",
      "Enter third number25\n",
      "Greatest of the 3 numbers is 45\n"
     ]
    }
   ],
   "source": [
    "num1=int(input(\"Enter first number\"))\n",
    "num2=int(input(\"Enter second number\"))\n",
    "num3=int(input(\"Enter third number\"))\n",
    "if num1 > num2 and num1 > num3:\n",
    "    greatest=num1\n",
    "elif num2 >num1 and num2 >num3:\n",
    "    greatest=num2\n",
    "else:\n",
    "    greatest=num3\n",
    "    \n",
    "print(\"Greatest of the 3 numbers is\",greatest)"
   ]
  },
  {
   "cell_type": "markdown",
   "id": "5d927240",
   "metadata": {},
   "source": [
    "# Print the smallest number between three numbers"
   ]
  },
  {
   "cell_type": "code",
   "execution_count": 7,
   "id": "5cacb213",
   "metadata": {},
   "outputs": [
    {
     "name": "stdout",
     "output_type": "stream",
     "text": [
      "Enter first number12\n",
      "Enter second number25\n",
      "Enter third number13\n",
      "Smallest of the 3 numbers is 12\n"
     ]
    }
   ],
   "source": [
    "num1=int(input(\"Enter first number\"))\n",
    "num2=int(input(\"Enter second number\"))\n",
    "num3=int(input(\"Enter third number\"))\n",
    "if num1 < num2 and num1 < num3:\n",
    "    smallest=num1\n",
    "elif num2 < num1 and num2 < num3:\n",
    "    smallest=num2\n",
    "else:\n",
    "    smallest=num3\n",
    "    \n",
    "print(\"Smallest of the 3 numbers is\",smallest)"
   ]
  },
  {
   "cell_type": "code",
   "execution_count": null,
   "id": "a20bdd10",
   "metadata": {},
   "outputs": [],
   "source": []
  }
 ],
 "metadata": {
  "kernelspec": {
   "display_name": "Python 3 (ipykernel)",
   "language": "python",
   "name": "python3"
  },
  "language_info": {
   "codemirror_mode": {
    "name": "ipython",
    "version": 3
   },
   "file_extension": ".py",
   "mimetype": "text/x-python",
   "name": "python",
   "nbconvert_exporter": "python",
   "pygments_lexer": "ipython3",
   "version": "3.9.7"
  }
 },
 "nbformat": 4,
 "nbformat_minor": 5
}
