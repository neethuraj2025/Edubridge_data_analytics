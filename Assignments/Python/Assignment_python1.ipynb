{
 "cells": [
  {
   "cell_type": "markdown",
   "id": "3251143c",
   "metadata": {},
   "source": [
    "# Addition of 2 numbers"
   ]
  },
  {
   "cell_type": "code",
   "execution_count": 2,
   "id": "1662f826",
   "metadata": {},
   "outputs": [
    {
     "name": "stdout",
     "output_type": "stream",
     "text": [
      "Enter first number52\n",
      "Enter second number36\n",
      "88\n"
     ]
    }
   ],
   "source": [
    "a=int(input('Enter first number'))\n",
    "b=int(input('Enter second number'))\n",
    "sum=a+b\n",
    "print(sum)"
   ]
  },
  {
   "cell_type": "markdown",
   "id": "6b3acf0d",
   "metadata": {},
   "source": [
    "# Subtraction"
   ]
  },
  {
   "cell_type": "code",
   "execution_count": 3,
   "id": "a0c2ac9b",
   "metadata": {},
   "outputs": [
    {
     "name": "stdout",
     "output_type": "stream",
     "text": [
      "Enter first number45\n",
      "Enter second number25\n",
      "20\n"
     ]
    }
   ],
   "source": [
    "a=int(input('Enter first number'))\n",
    "b=int(input('Enter second number'))\n",
    "diff=a-b\n",
    "print(diff)"
   ]
  },
  {
   "cell_type": "markdown",
   "id": "eca622f9",
   "metadata": {},
   "source": [
    "# Multiplication "
   ]
  },
  {
   "cell_type": "code",
   "execution_count": 4,
   "id": "8ada7698",
   "metadata": {},
   "outputs": [
    {
     "name": "stdout",
     "output_type": "stream",
     "text": [
      "Enter first number12\n",
      "Enter second number10\n",
      "120\n"
     ]
    }
   ],
   "source": [
    "a=int(input('Enter first number'))\n",
    "b=int(input('Enter second number'))\n",
    "prod=a*b\n",
    "print(prod)\n"
   ]
  },
  {
   "cell_type": "markdown",
   "id": "000fc571",
   "metadata": {},
   "source": [
    "# Division"
   ]
  },
  {
   "cell_type": "code",
   "execution_count": 6,
   "id": "4ed4aac8",
   "metadata": {},
   "outputs": [
    {
     "name": "stdout",
     "output_type": "stream",
     "text": [
      "Enter first number45\n",
      "Enter second number5\n",
      "9.0\n"
     ]
    }
   ],
   "source": [
    "a=int(input('Enter first number'))\n",
    "b=int(input('Enter second number'))\n",
    "Quo=a/b\n",
    "print(Quo)"
   ]
  },
  {
   "cell_type": "markdown",
   "id": "03e5358c",
   "metadata": {},
   "source": [
    "# Modulus"
   ]
  },
  {
   "cell_type": "code",
   "execution_count": 7,
   "id": "36fe8e70",
   "metadata": {},
   "outputs": [
    {
     "name": "stdout",
     "output_type": "stream",
     "text": [
      "Enter first number10\n",
      "Enter second number3\n",
      "1\n"
     ]
    }
   ],
   "source": [
    "a=int(input('Enter first number'))\n",
    "b=int(input('Enter second number'))\n",
    "mod=a%b\n",
    "print(mod)"
   ]
  },
  {
   "cell_type": "markdown",
   "id": "7bcde5ba",
   "metadata": {},
   "source": [
    "# Simple interest"
   ]
  },
  {
   "cell_type": "code",
   "execution_count": 9,
   "id": "d0b874e1",
   "metadata": {},
   "outputs": [
    {
     "name": "stdout",
     "output_type": "stream",
     "text": [
      "Enter principal25000\n",
      "Enter interest rate.5\n",
      "Enter time2\n",
      "25000.0\n"
     ]
    }
   ],
   "source": [
    "p=int(input('Enter principal'))\n",
    "r=float(input('Enter interest rate'))\n",
    "n=float(input('Enter time'))\n",
    "i=p*n*r\n",
    "print(i)\n",
    "\n"
   ]
  },
  {
   "cell_type": "markdown",
   "id": "9c6e8fd2",
   "metadata": {},
   "source": [
    "# Swap of 2 numbers with third variable"
   ]
  },
  {
   "cell_type": "code",
   "execution_count": 1,
   "id": "9f210090",
   "metadata": {},
   "outputs": [
    {
     "name": "stdout",
     "output_type": "stream",
     "text": [
      "Enter first number21\n",
      "Enter second number25\n",
      "25 21\n"
     ]
    }
   ],
   "source": [
    "a=int(input('Enter first number'))\n",
    "b=int(input('Enter second number'))\n",
    "swap=a\n",
    "a=b\n",
    "b=swap\n",
    "print(a,b)"
   ]
  },
  {
   "cell_type": "markdown",
   "id": "8b5c1d55",
   "metadata": {},
   "source": [
    "# Swap without third variable"
   ]
  },
  {
   "cell_type": "code",
   "execution_count": 2,
   "id": "d9599580",
   "metadata": {},
   "outputs": [
    {
     "name": "stdout",
     "output_type": "stream",
     "text": [
      "Enter first number12\n",
      "Enter second number32\n",
      "32 12\n"
     ]
    }
   ],
   "source": [
    "a=int(input('Enter first number'))\n",
    "b=int(input('Enter second number'))\n",
    "a=a+b\n",
    "b=a-b\n",
    "a=a-b\n",
    "print(a,b)"
   ]
  },
  {
   "cell_type": "markdown",
   "id": "3e071ff5",
   "metadata": {},
   "source": [
    "# Swap without third variable"
   ]
  },
  {
   "cell_type": "code",
   "execution_count": 4,
   "id": "6c78e22a",
   "metadata": {},
   "outputs": [
    {
     "name": "stdout",
     "output_type": "stream",
     "text": [
      "Enter first number12\n",
      "Enter second number21\n",
      "21 12\n"
     ]
    }
   ],
   "source": [
    "a=int(input('Enter first number'))\n",
    "b=int(input('Enter second number'))\n",
    "a=a*b\n",
    "b=int(a/b)\n",
    "a=int(a/b)\n",
    "print(a,b)"
   ]
  },
  {
   "cell_type": "markdown",
   "id": "9abb8485",
   "metadata": {},
   "source": [
    "# Average of student marks"
   ]
  },
  {
   "cell_type": "code",
   "execution_count": 6,
   "id": "d80be315",
   "metadata": {},
   "outputs": [
    {
     "name": "stdout",
     "output_type": "stream",
     "text": [
      "Enter first student12\n",
      "Enter second student23\n",
      "Enter third student25\n",
      "20.0\n"
     ]
    }
   ],
   "source": [
    "a=int(input('Enter first student'))\n",
    "b=int(input('Enter second student'))\n",
    "c=int(input('Enter third student'))\n",
    "avg=(a+b+c)/3\n",
    "print(avg)"
   ]
  },
  {
   "cell_type": "code",
   "execution_count": null,
   "id": "c189fa10",
   "metadata": {},
   "outputs": [],
   "source": []
  }
 ],
 "metadata": {
  "kernelspec": {
   "display_name": "Python 3 (ipykernel)",
   "language": "python",
   "name": "python3"
  },
  "language_info": {
   "codemirror_mode": {
    "name": "ipython",
    "version": 3
   },
   "file_extension": ".py",
   "mimetype": "text/x-python",
   "name": "python",
   "nbconvert_exporter": "python",
   "pygments_lexer": "ipython3",
   "version": "3.9.7"
  }
 },
 "nbformat": 4,
 "nbformat_minor": 5
}
