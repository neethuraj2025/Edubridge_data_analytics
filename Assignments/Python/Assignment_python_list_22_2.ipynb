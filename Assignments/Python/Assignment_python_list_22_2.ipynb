{
 "cells": [
  {
   "cell_type": "markdown",
   "id": "1acde88c",
   "metadata": {},
   "source": [
    "### 1. Write a function to find the max of 3 number"
   ]
  },
  {
   "cell_type": "code",
   "execution_count": 6,
   "id": "5bb08cfa",
   "metadata": {},
   "outputs": [
    {
     "name": "stdout",
     "output_type": "stream",
     "text": [
      "Enter first number45\n",
      "Enter second number4\n",
      "Enter third number12\n"
     ]
    },
    {
     "data": {
      "text/plain": [
       "45"
      ]
     },
     "execution_count": 6,
     "metadata": {},
     "output_type": "execute_result"
    }
   ],
   "source": [
    "def maximum(a, b, c):\n",
    "      if (a >= b) and (a >= c):\n",
    "        largest = a\n",
    "  \n",
    "      elif (b >= a) and (b >= c):\n",
    "        largest = b\n",
    "   \n",
    "      else:\n",
    "        largest = c\n",
    "          \n",
    "      return largest\n",
    "x=int(input(\"Enter first number\"))\n",
    "y=int(input(\"Enter second number\"))\n",
    "z=int(input(\"Enter third number\"))\n",
    "maximum(x,y,z)\n"
   ]
  },
  {
   "cell_type": "markdown",
   "id": "d8e63408",
   "metadata": {},
   "source": [
    "### 2. Write a function to sum all the numbers in a list"
   ]
  },
  {
   "cell_type": "code",
   "execution_count": 4,
   "id": "30895157",
   "metadata": {},
   "outputs": [
    {
     "name": "stdout",
     "output_type": "stream",
     "text": [
      "Enter the list items : 12 4 5\n",
      "[12, 4, 5]\n",
      "21\n"
     ]
    }
   ],
   "source": [
    "def sum_list(l1):\n",
    "    sum=0\n",
    "    for ele in l1:\n",
    "        sum=sum+ele\n",
    "    return sum\n",
    "\n",
    "l=[int(item) for item in input(\"Enter the list items : \").split()]\n",
    "sum1=sum_list(l)\n",
    "print(sum1)\n"
   ]
  },
  {
   "cell_type": "markdown",
   "id": "48f7a650",
   "metadata": {},
   "source": [
    "### 3. Write a function to multiply all the numbers in a list"
   ]
  },
  {
   "cell_type": "code",
   "execution_count": 9,
   "id": "80ce81b7",
   "metadata": {},
   "outputs": [
    {
     "name": "stdout",
     "output_type": "stream",
     "text": [
      "Enter the list items :4 5 6\n",
      "120\n"
     ]
    }
   ],
   "source": [
    "def product_list(l1):\n",
    "    product=1\n",
    "    for ele in l1:\n",
    "        product=product*ele\n",
    "        \n",
    "    return product\n",
    "\n",
    "l=[int(item) for item in input(\"Enter the list items :\").split()]\n",
    "product=product_list(l)\n",
    "print(product)"
   ]
  },
  {
   "cell_type": "markdown",
   "id": "78b51033",
   "metadata": {},
   "source": [
    "### 4. Write a function to reverse a string"
   ]
  },
  {
   "cell_type": "code",
   "execution_count": 15,
   "id": "6799a314",
   "metadata": {},
   "outputs": [
    {
     "name": "stdout",
     "output_type": "stream",
     "text": [
      "olleh\n",
      "tacsuM\n"
     ]
    }
   ],
   "source": [
    "def reverse(s1):\n",
    "  str = \"\"\n",
    "  for i in s1:\n",
    "    str = i + str\n",
    "  return str\n",
    "\n",
    "def reverse1(s1):\n",
    "    return(s1[::-1])\n",
    "\n",
    "str=reverse(\"hello\")\n",
    "str1=reverse1(\"Muscat\")\n",
    "print(str)\n",
    "print(str1)"
   ]
  },
  {
   "cell_type": "markdown",
   "id": "4c2f3427",
   "metadata": {},
   "source": [
    "### 5. Write a function to calculate the factorial of a number"
   ]
  },
  {
   "cell_type": "code",
   "execution_count": 26,
   "id": "4e3378c9",
   "metadata": {},
   "outputs": [
    {
     "name": "stdout",
     "output_type": "stream",
     "text": [
      "Enter a number5\n",
      "120\n"
     ]
    }
   ],
   "source": [
    "def factorial(num1):\n",
    "    fact=1\n",
    "    for i in range(1,num1+1):\n",
    "        fact*=i\n",
    "    return fact\n",
    "\n",
    "num=int(input(\"Enter a number\"))\n",
    "f1=factorial(num)\n",
    "print(f1)"
   ]
  },
  {
   "cell_type": "markdown",
   "id": "657ffedc",
   "metadata": {},
   "source": [
    "### 6. Write a function that accepts a string and calculate the number of uppercase letters and lower case letters"
   ]
  },
  {
   "cell_type": "code",
   "execution_count": 31,
   "id": "a2d528e1",
   "metadata": {},
   "outputs": [
    {
     "name": "stdout",
     "output_type": "stream",
     "text": [
      "Enter the stringnjnj\n",
      "Count of capital 0 \n",
      "Count of lower 4\n"
     ]
    }
   ],
   "source": [
    "def upper_lower_count(s1):\n",
    "    uppercount=0\n",
    "    lowercount=0\n",
    "    for i in range(len(s1)):\n",
    "        if s1[i].isupper():\n",
    "            uppercount+=1;\n",
    "        if s1[i].islower():\n",
    "            lowercount+=1;\n",
    "    return uppercount,lowercount\n",
    "\n",
    "str=input(\"Enter the string\")\n",
    "count=upper_lower_count(str)\n",
    "print(\"Count of capital\",count[0],\"\\nCount of lower\",count[1])"
   ]
  },
  {
   "cell_type": "markdown",
   "id": "e15a22c2",
   "metadata": {},
   "source": [
    "### 7. Write a function that takes a list and returns a new list with unique elements of the first list."
   ]
  },
  {
   "cell_type": "code",
   "execution_count": 34,
   "id": "735b1ef5",
   "metadata": {},
   "outputs": [
    {
     "name": "stdout",
     "output_type": "stream",
     "text": [
      "[1, 2, 3, 4, 5]\n"
     ]
    }
   ],
   "source": [
    "def unique_list(l):\n",
    "  x = []\n",
    "  for a in l:\n",
    "    if a not in x:\n",
    "      x.append(a)\n",
    "  return x\n",
    "\n",
    "print(unique_list([1,2,3,3,3,3,4,5]))"
   ]
  },
  {
   "cell_type": "code",
   "execution_count": null,
   "id": "fa6b8ed0",
   "metadata": {},
   "outputs": [],
   "source": []
  },
  {
   "cell_type": "code",
   "execution_count": null,
   "id": "312952ac",
   "metadata": {},
   "outputs": [],
   "source": []
  },
  {
   "cell_type": "code",
   "execution_count": null,
   "id": "2c7998eb",
   "metadata": {},
   "outputs": [],
   "source": []
  },
  {
   "cell_type": "code",
   "execution_count": null,
   "id": "863685a4",
   "metadata": {},
   "outputs": [],
   "source": []
  },
  {
   "cell_type": "code",
   "execution_count": null,
   "id": "01c2c64c",
   "metadata": {},
   "outputs": [],
   "source": []
  }
 ],
 "metadata": {
  "kernelspec": {
   "display_name": "Python 3 (ipykernel)",
   "language": "python",
   "name": "python3"
  },
  "language_info": {
   "codemirror_mode": {
    "name": "ipython",
    "version": 3
   },
   "file_extension": ".py",
   "mimetype": "text/x-python",
   "name": "python",
   "nbconvert_exporter": "python",
   "pygments_lexer": "ipython3",
   "version": "3.9.7"
  }
 },
 "nbformat": 4,
 "nbformat_minor": 5
}
