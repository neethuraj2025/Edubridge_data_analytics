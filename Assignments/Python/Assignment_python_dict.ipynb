{
 "cells": [
  {
   "cell_type": "markdown",
   "id": "123055d6",
   "metadata": {},
   "source": [
    "## Sort a dictionary by value\n",
    "\n",
    "\n"
   ]
  },
  {
   "cell_type": "code",
   "execution_count": null,
   "id": "fa7689c4",
   "metadata": {},
   "outputs": [],
   "source": [
    "def myFunc(e):\n",
    "  return e['year']\n",
    "\n",
    "cars = [\n",
    "  {'car': 'Ford', 'year': 2005},\n",
    "  {'car': 'Mitsubishi', 'year': 2000},\n",
    "  {'car': 'BMW', 'year': 2019},\n",
    "  {'car': 'VW', 'year': 2011}\n",
    "]\n",
    "\n",
    "cars.sort(key=myFunc)"
   ]
  },
  {
   "cell_type": "markdown",
   "id": "2b4cf664",
   "metadata": {},
   "source": [
    "## Add a key to a dictionary"
   ]
  },
  {
   "cell_type": "code",
   "execution_count": 2,
   "id": "1dbafbb3",
   "metadata": {},
   "outputs": [
    {
     "name": "stdout",
     "output_type": "stream",
     "text": [
      "Current Dict is:  {'key1': 'hi', 'key2': 'hello'}\n",
      "Updated Dict is:  {'key1': 'hi', 'key2': 'hello', 'key3': 'there'}\n"
     ]
    }
   ],
   "source": [
    "dict = {'key1':'hi', 'key2':'hello'}\n",
    "print(\"Current Dict is: \", dict)\n",
    "  \n",
    "# adding key3\n",
    "dict.update({'key3':'there'})\n",
    "print(\"Updated Dict is: \", dict)"
   ]
  },
  {
   "cell_type": "code",
   "execution_count": null,
   "id": "ee02c1c6",
   "metadata": {},
   "outputs": [],
   "source": []
  }
 ],
 "metadata": {
  "kernelspec": {
   "display_name": "Python 3 (ipykernel)",
   "language": "python",
   "name": "python3"
  },
  "language_info": {
   "codemirror_mode": {
    "name": "ipython",
    "version": 3
   },
   "file_extension": ".py",
   "mimetype": "text/x-python",
   "name": "python",
   "nbconvert_exporter": "python",
   "pygments_lexer": "ipython3",
   "version": "3.9.7"
  }
 },
 "nbformat": 4,
 "nbformat_minor": 5
}
