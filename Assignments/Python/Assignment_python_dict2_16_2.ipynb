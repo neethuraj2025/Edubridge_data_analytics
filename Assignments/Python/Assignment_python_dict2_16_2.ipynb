{
 "cells": [
  {
   "cell_type": "markdown",
   "id": "78506391",
   "metadata": {},
   "source": [
    "## 1. Dictionary comprehension \n"
   ]
  },
  {
   "cell_type": "code",
   "execution_count": 2,
   "id": "d22ccd8a",
   "metadata": {},
   "outputs": [
    {
     "name": "stdout",
     "output_type": "stream",
     "text": [
      "{'1': 'Apple', '2': 'banana', '3': 'orange', '4': 'kiwi', '5': 'melon'}\n"
     ]
    }
   ],
   "source": [
    "keys = ['1','2','3','4','5']\n",
    "values = [\"Apple\",\"banana\",\"orange\",\"kiwi\",\"melon\"]  \n",
    "\n",
    "myDict = dict(zip(keys, values)) \n",
    "print(myDict)"
   ]
  },
  {
   "cell_type": "code",
   "execution_count": 4,
   "id": "825ff5e3",
   "metadata": {},
   "outputs": [
    {
     "name": "stdout",
     "output_type": "stream",
     "text": [
      "{1: 1, 2: 4, 3: 9, 4: 16, 5: 25}\n"
     ]
    }
   ],
   "source": [
    "\n",
    "myDict = {x: x**2 for x in [1,2,3,4,5]}\n",
    "print (myDict)"
   ]
  },
  {
   "cell_type": "markdown",
   "id": "33e9935b",
   "metadata": {},
   "source": [
    "## 2. Double each value "
   ]
  },
  {
   "cell_type": "code",
   "execution_count": 6,
   "id": "7f01c923",
   "metadata": {},
   "outputs": [
    {
     "name": "stdout",
     "output_type": "stream",
     "text": [
      "{'Hridhay': 100, 'Ajinu': 80, 'Neethu': 120}\n"
     ]
    }
   ],
   "source": [
    "dict1 = {\"Hridhay\": 50, \"Ajinu\": 40, \"Neethu\": 60}\n",
    "dict2 = dict()\n",
    "for key in dict1:\n",
    "    dict2[key] = dict1[key] * 2\n",
    "    \n",
    "print(dict2)"
   ]
  },
  {
   "cell_type": "markdown",
   "id": "6b1ee530",
   "metadata": {},
   "source": [
    "## 3. Divide all values in a dictionary"
   ]
  },
  {
   "cell_type": "code",
   "execution_count": 7,
   "id": "2ba6a4b6",
   "metadata": {},
   "outputs": [
    {
     "name": "stdout",
     "output_type": "stream",
     "text": [
      "{'Hridhay': 25.0, 'Ajinu': 20.0, 'Neethu': 30.0}\n"
     ]
    }
   ],
   "source": [
    "dict1 = {\"Hridhay\": 50, \"Ajinu\": 40, \"Neethu\": 60}\n",
    "dict2 = dict()\n",
    "for key in dict1:\n",
    "    dict2[key] = dict1[key] / 2\n",
    "    \n",
    "print(dict2)"
   ]
  },
  {
   "cell_type": "code",
   "execution_count": null,
   "id": "466fa971",
   "metadata": {},
   "outputs": [],
   "source": []
  }
 ],
 "metadata": {
  "kernelspec": {
   "display_name": "Python 3 (ipykernel)",
   "language": "python",
   "name": "python3"
  },
  "language_info": {
   "codemirror_mode": {
    "name": "ipython",
    "version": 3
   },
   "file_extension": ".py",
   "mimetype": "text/x-python",
   "name": "python",
   "nbconvert_exporter": "python",
   "pygments_lexer": "ipython3",
   "version": "3.9.7"
  }
 },
 "nbformat": 4,
 "nbformat_minor": 5
}
